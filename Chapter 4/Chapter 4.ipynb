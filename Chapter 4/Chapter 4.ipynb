{
 "cells": [
  {
   "cell_type": "markdown",
   "id": "0194f0e6",
   "metadata": {},
   "source": [
    "# Every-visit MC prediction with blackjack game"
   ]
  },
  {
   "cell_type": "code",
   "execution_count": 31,
   "id": "a50f0a11",
   "metadata": {},
   "outputs": [],
   "source": [
    "import gym \n",
    "import pandas as pd\n",
    "from collections import defaultdict"
   ]
  },
  {
   "cell_type": "code",
   "execution_count": 32,
   "id": "c7adbe91",
   "metadata": {},
   "outputs": [],
   "source": [
    "env = gym.make('Blackjack-v0')"
   ]
  },
  {
   "cell_type": "markdown",
   "id": "5c2f7a6f",
   "metadata": {},
   "source": [
    "### Defining a Policy"
   ]
  },
  {
   "cell_type": "code",
   "execution_count": 41,
   "id": "cee3c724",
   "metadata": {},
   "outputs": [],
   "source": [
    "def policy(state):\n",
    "    return 0 if state[0] > 19 else 1"
   ]
  },
  {
   "cell_type": "code",
   "execution_count": 42,
   "id": "16732d28",
   "metadata": {},
   "outputs": [
    {
     "name": "stdout",
     "output_type": "stream",
     "text": [
      "(17, 10, False)\n"
     ]
    }
   ],
   "source": [
    "state = env.reset()\n",
    "print(state)"
   ]
  },
  {
   "cell_type": "code",
   "execution_count": 43,
   "id": "8b448bd1",
   "metadata": {},
   "outputs": [
    {
     "name": "stdout",
     "output_type": "stream",
     "text": [
      "1\n"
     ]
    }
   ],
   "source": [
    "print(policy(state))"
   ]
  },
  {
   "cell_type": "markdown",
   "id": "ccfae9ad",
   "metadata": {},
   "source": [
    "### Generating an Episode"
   ]
  },
  {
   "cell_type": "code",
   "execution_count": 44,
   "id": "2f3376a8",
   "metadata": {},
   "outputs": [],
   "source": [
    "num_timestep = 100"
   ]
  },
  {
   "cell_type": "code",
   "execution_count": 45,
   "id": "76aacd0a",
   "metadata": {},
   "outputs": [],
   "source": [
    "def generate_episode(policy):\n",
    "    \n",
    "    # let's define a list called episode for storing the episode\n",
    "    episode = []\n",
    "\n",
    "    # initialize the state by reseting the environment\n",
    "    state = env.reset()\n",
    "    \n",
    "    # then for each time step\n",
    "    for i in range(num_timestep):\n",
    "        \n",
    "        # Select the action according to the given policy\n",
    "        action = policy(state)\n",
    "        \n",
    "        # perform the action and store the next state information\n",
    "        next_state, reward, done, info = env.step(action)\n",
    "        \n",
    "        # store the state, action, reward into our episode list\n",
    "        episode.append((state, action, reward))\n",
    "        \n",
    "        # if the next state is final state then break the loop else update the next state to the current state\n",
    "        if done:\n",
    "            break\n",
    "            \n",
    "        state = next_state\n",
    "        \n",
    "    return episode"
   ]
  },
  {
   "cell_type": "code",
   "execution_count": 46,
   "id": "4fa6f419",
   "metadata": {},
   "outputs": [
    {
     "data": {
      "text/plain": [
       "[((20, 10, False), 0, 1.0)]"
      ]
     },
     "execution_count": 46,
     "metadata": {},
     "output_type": "execute_result"
    }
   ],
   "source": [
    "generate_episode(policy)"
   ]
  },
  {
   "cell_type": "markdown",
   "id": "6eb1f26a",
   "metadata": {},
   "source": [
    "### Computing the Value Function"
   ]
  },
  {
   "cell_type": "code",
   "execution_count": 47,
   "id": "9a67e6f4",
   "metadata": {},
   "outputs": [],
   "source": [
    "total_return = defaultdict(float)\n",
    "N = defaultdict(int)"
   ]
  },
  {
   "cell_type": "code",
   "execution_count": 48,
   "id": "30929c0a",
   "metadata": {},
   "outputs": [],
   "source": [
    "num_iterations = 500000"
   ]
  },
  {
   "cell_type": "code",
   "execution_count": 19,
   "id": "dad9bdcd",
   "metadata": {},
   "outputs": [],
   "source": [
    "check = [((5, 4, False), 1, 0.0), ((7, 4, False), 1, 0.0), ((12, 4, False), 1, 0.0), ((19, 4, False), 1, -1.0)]"
   ]
  },
  {
   "cell_type": "code",
   "execution_count": 20,
   "id": "f002e646",
   "metadata": {},
   "outputs": [
    {
     "name": "stdout",
     "output_type": "stream",
     "text": [
      "(((5, 4, False), (7, 4, False), (12, 4, False), (19, 4, False)), (1, 1, 1, 1), (0.0, 0.0, 0.0, -1.0))\n"
     ]
    }
   ],
   "source": [
    "x = zip(*check)\n",
    "print(tuple(x))"
   ]
  },
  {
   "cell_type": "code",
   "execution_count": 21,
   "id": "b65fac6a",
   "metadata": {},
   "outputs": [
    {
     "name": "stdout",
     "output_type": "stream",
     "text": [
      "0 (5, 4, False)\n",
      "1 (7, 4, False)\n",
      "2 (12, 4, False)\n",
      "3 (19, 4, False)\n"
     ]
    }
   ],
   "source": [
    "states, actions, rewards = zip(*check)\n",
    "for t, state in enumerate(states):\n",
    "    print(t, state)\n"
   ]
  },
  {
   "cell_type": "code",
   "execution_count": 22,
   "id": "93f03ca6",
   "metadata": {},
   "outputs": [
    {
     "name": "stdout",
     "output_type": "stream",
     "text": [
      "-1.0\n",
      "-1.0\n",
      "-1.0\n",
      "-1.0\n"
     ]
    }
   ],
   "source": [
    "states, actions, rewards = zip(*check)\n",
    "for t, state in enumerate(states):\n",
    "    R = (sum(rewards[t:]))\n",
    "    print(R)\n",
    "    "
   ]
  },
  {
   "cell_type": "code",
   "execution_count": null,
   "id": "0e7eec09",
   "metadata": {},
   "outputs": [],
   "source": []
  },
  {
   "cell_type": "code",
   "execution_count": 49,
   "id": "dccfc9b5",
   "metadata": {},
   "outputs": [],
   "source": [
    "# then for every iteration\n",
    "for i in range(num_iterations):\n",
    "    \n",
    "    # generate the episode using the given policy, that is, generate an episode using the policy\n",
    "    # function we defined earlier\n",
    "    episode = generate_episode(policy)\n",
    "    \n",
    "    # store all the states, actions, reward obtained from the episode\n",
    "    states, actions, rewards = zip(*episode)\n",
    "    \n",
    "    # then for each step in the episode\n",
    "    for t, state in enumerate(states):\n",
    "        \n",
    "        # compute the return R of the state as the sum of reward\n",
    "        R = (sum(rewards[t:]))\n",
    "        \n",
    "        # update the total return of the state\n",
    "        total_return[state] = total_return[state] + R\n",
    "        \n",
    "        # update the number of times the state is visited in the episode\n",
    "        N[state] = N[state] + 1\n",
    "        "
   ]
  },
  {
   "cell_type": "code",
   "execution_count": 50,
   "id": "0158d36f",
   "metadata": {},
   "outputs": [],
   "source": [
    "total_return = pd.DataFrame(total_return.items(), columns=['state', 'total_return'])"
   ]
  },
  {
   "cell_type": "code",
   "execution_count": 51,
   "id": "692a9072",
   "metadata": {},
   "outputs": [],
   "source": [
    "N = pd.DataFrame(N.items(), columns=['state', 'N'])"
   ]
  },
  {
   "cell_type": "code",
   "execution_count": 52,
   "id": "7e528e09",
   "metadata": {},
   "outputs": [],
   "source": [
    "df = pd.merge(total_return, N, on='state')"
   ]
  },
  {
   "cell_type": "code",
   "execution_count": 53,
   "id": "b75fbc67",
   "metadata": {},
   "outputs": [
    {
     "data": {
      "text/html": [
       "<div>\n",
       "<style scoped>\n",
       "    .dataframe tbody tr th:only-of-type {\n",
       "        vertical-align: middle;\n",
       "    }\n",
       "\n",
       "    .dataframe tbody tr th {\n",
       "        vertical-align: top;\n",
       "    }\n",
       "\n",
       "    .dataframe thead th {\n",
       "        text-align: right;\n",
       "    }\n",
       "</style>\n",
       "<table border=\"1\" class=\"dataframe\">\n",
       "  <thead>\n",
       "    <tr style=\"text-align: right;\">\n",
       "      <th></th>\n",
       "      <th>state</th>\n",
       "      <th>total_return</th>\n",
       "      <th>N</th>\n",
       "    </tr>\n",
       "  </thead>\n",
       "  <tbody>\n",
       "    <tr>\n",
       "      <th>0</th>\n",
       "      <td>(16, 3, False)</td>\n",
       "      <td>-3346.0</td>\n",
       "      <td>5119</td>\n",
       "    </tr>\n",
       "    <tr>\n",
       "      <th>1</th>\n",
       "      <td>(21, 3, False)</td>\n",
       "      <td>3434.0</td>\n",
       "      <td>3850</td>\n",
       "    </tr>\n",
       "    <tr>\n",
       "      <th>2</th>\n",
       "      <td>(9, 9, False)</td>\n",
       "      <td>-844.0</td>\n",
       "      <td>1606</td>\n",
       "    </tr>\n",
       "    <tr>\n",
       "      <th>3</th>\n",
       "      <td>(19, 9, False)</td>\n",
       "      <td>-3905.0</td>\n",
       "      <td>5517</td>\n",
       "    </tr>\n",
       "    <tr>\n",
       "      <th>4</th>\n",
       "      <td>(21, 9, False)</td>\n",
       "      <td>3632.0</td>\n",
       "      <td>3860</td>\n",
       "    </tr>\n",
       "    <tr>\n",
       "      <th>5</th>\n",
       "      <td>(15, 6, True)</td>\n",
       "      <td>-187.0</td>\n",
       "      <td>538</td>\n",
       "    </tr>\n",
       "    <tr>\n",
       "      <th>6</th>\n",
       "      <td>(13, 6, False)</td>\n",
       "      <td>-2731.0</td>\n",
       "      <td>4681</td>\n",
       "    </tr>\n",
       "    <tr>\n",
       "      <th>7</th>\n",
       "      <td>(20, 6, False)</td>\n",
       "      <td>5237.0</td>\n",
       "      <td>7477</td>\n",
       "    </tr>\n",
       "    <tr>\n",
       "      <th>8</th>\n",
       "      <td>(7, 1, False)</td>\n",
       "      <td>-597.0</td>\n",
       "      <td>990</td>\n",
       "    </tr>\n",
       "    <tr>\n",
       "      <th>9</th>\n",
       "      <td>(11, 1, False)</td>\n",
       "      <td>-498.0</td>\n",
       "      <td>2238</td>\n",
       "    </tr>\n",
       "  </tbody>\n",
       "</table>\n",
       "</div>"
      ],
      "text/plain": [
       "            state  total_return     N\n",
       "0  (16, 3, False)       -3346.0  5119\n",
       "1  (21, 3, False)        3434.0  3850\n",
       "2   (9, 9, False)        -844.0  1606\n",
       "3  (19, 9, False)       -3905.0  5517\n",
       "4  (21, 9, False)        3632.0  3860\n",
       "5   (15, 6, True)        -187.0   538\n",
       "6  (13, 6, False)       -2731.0  4681\n",
       "7  (20, 6, False)        5237.0  7477\n",
       "8   (7, 1, False)        -597.0   990\n",
       "9  (11, 1, False)        -498.0  2238"
      ]
     },
     "execution_count": 53,
     "metadata": {},
     "output_type": "execute_result"
    }
   ],
   "source": [
    "df.head(10)"
   ]
  },
  {
   "cell_type": "code",
   "execution_count": 54,
   "id": "2f16a189",
   "metadata": {},
   "outputs": [
    {
     "data": {
      "text/html": [
       "<div>\n",
       "<style scoped>\n",
       "    .dataframe tbody tr th:only-of-type {\n",
       "        vertical-align: middle;\n",
       "    }\n",
       "\n",
       "    .dataframe tbody tr th {\n",
       "        vertical-align: top;\n",
       "    }\n",
       "\n",
       "    .dataframe thead th {\n",
       "        text-align: right;\n",
       "    }\n",
       "</style>\n",
       "<table border=\"1\" class=\"dataframe\">\n",
       "  <thead>\n",
       "    <tr style=\"text-align: right;\">\n",
       "      <th></th>\n",
       "      <th>state</th>\n",
       "      <th>total_return</th>\n",
       "      <th>N</th>\n",
       "    </tr>\n",
       "  </thead>\n",
       "  <tbody>\n",
       "    <tr>\n",
       "      <th>270</th>\n",
       "      <td>(5, 4, False)</td>\n",
       "      <td>-253.0</td>\n",
       "      <td>493</td>\n",
       "    </tr>\n",
       "    <tr>\n",
       "      <th>271</th>\n",
       "      <td>(15, 7, True)</td>\n",
       "      <td>-178.0</td>\n",
       "      <td>568</td>\n",
       "    </tr>\n",
       "    <tr>\n",
       "      <th>272</th>\n",
       "      <td>(18, 1, True)</td>\n",
       "      <td>-454.0</td>\n",
       "      <td>812</td>\n",
       "    </tr>\n",
       "    <tr>\n",
       "      <th>273</th>\n",
       "      <td>(14, 5, True)</td>\n",
       "      <td>-174.0</td>\n",
       "      <td>524</td>\n",
       "    </tr>\n",
       "    <tr>\n",
       "      <th>274</th>\n",
       "      <td>(12, 5, True)</td>\n",
       "      <td>-25.0</td>\n",
       "      <td>228</td>\n",
       "    </tr>\n",
       "    <tr>\n",
       "      <th>275</th>\n",
       "      <td>(5, 9, False)</td>\n",
       "      <td>-202.0</td>\n",
       "      <td>445</td>\n",
       "    </tr>\n",
       "    <tr>\n",
       "      <th>276</th>\n",
       "      <td>(4, 7, False)</td>\n",
       "      <td>-103.0</td>\n",
       "      <td>217</td>\n",
       "    </tr>\n",
       "    <tr>\n",
       "      <th>277</th>\n",
       "      <td>(12, 7, True)</td>\n",
       "      <td>-32.0</td>\n",
       "      <td>205</td>\n",
       "    </tr>\n",
       "    <tr>\n",
       "      <th>278</th>\n",
       "      <td>(12, 9, True)</td>\n",
       "      <td>-34.0</td>\n",
       "      <td>233</td>\n",
       "    </tr>\n",
       "    <tr>\n",
       "      <th>279</th>\n",
       "      <td>(12, 1, True)</td>\n",
       "      <td>-72.0</td>\n",
       "      <td>214</td>\n",
       "    </tr>\n",
       "  </tbody>\n",
       "</table>\n",
       "</div>"
      ],
      "text/plain": [
       "             state  total_return    N\n",
       "270  (5, 4, False)        -253.0  493\n",
       "271  (15, 7, True)        -178.0  568\n",
       "272  (18, 1, True)        -454.0  812\n",
       "273  (14, 5, True)        -174.0  524\n",
       "274  (12, 5, True)         -25.0  228\n",
       "275  (5, 9, False)        -202.0  445\n",
       "276  (4, 7, False)        -103.0  217\n",
       "277  (12, 7, True)         -32.0  205\n",
       "278  (12, 9, True)         -34.0  233\n",
       "279  (12, 1, True)         -72.0  214"
      ]
     },
     "execution_count": 54,
     "metadata": {},
     "output_type": "execute_result"
    }
   ],
   "source": [
    "df.tail(10)"
   ]
  },
  {
   "cell_type": "code",
   "execution_count": 55,
   "id": "1f8a08c3",
   "metadata": {},
   "outputs": [],
   "source": [
    "df['value'] = df['total_return']/df['N']"
   ]
  },
  {
   "cell_type": "code",
   "execution_count": 56,
   "id": "6cbfe9fe",
   "metadata": {},
   "outputs": [
    {
     "data": {
      "text/html": [
       "<div>\n",
       "<style scoped>\n",
       "    .dataframe tbody tr th:only-of-type {\n",
       "        vertical-align: middle;\n",
       "    }\n",
       "\n",
       "    .dataframe tbody tr th {\n",
       "        vertical-align: top;\n",
       "    }\n",
       "\n",
       "    .dataframe thead th {\n",
       "        text-align: right;\n",
       "    }\n",
       "</style>\n",
       "<table border=\"1\" class=\"dataframe\">\n",
       "  <thead>\n",
       "    <tr style=\"text-align: right;\">\n",
       "      <th></th>\n",
       "      <th>state</th>\n",
       "      <th>total_return</th>\n",
       "      <th>N</th>\n",
       "      <th>value</th>\n",
       "    </tr>\n",
       "  </thead>\n",
       "  <tbody>\n",
       "    <tr>\n",
       "      <th>0</th>\n",
       "      <td>(16, 3, False)</td>\n",
       "      <td>-3346.0</td>\n",
       "      <td>5119</td>\n",
       "      <td>-0.653643</td>\n",
       "    </tr>\n",
       "    <tr>\n",
       "      <th>1</th>\n",
       "      <td>(21, 3, False)</td>\n",
       "      <td>3434.0</td>\n",
       "      <td>3850</td>\n",
       "      <td>0.891948</td>\n",
       "    </tr>\n",
       "    <tr>\n",
       "      <th>2</th>\n",
       "      <td>(9, 9, False)</td>\n",
       "      <td>-844.0</td>\n",
       "      <td>1606</td>\n",
       "      <td>-0.525529</td>\n",
       "    </tr>\n",
       "    <tr>\n",
       "      <th>3</th>\n",
       "      <td>(19, 9, False)</td>\n",
       "      <td>-3905.0</td>\n",
       "      <td>5517</td>\n",
       "      <td>-0.707812</td>\n",
       "    </tr>\n",
       "    <tr>\n",
       "      <th>4</th>\n",
       "      <td>(21, 9, False)</td>\n",
       "      <td>3632.0</td>\n",
       "      <td>3860</td>\n",
       "      <td>0.940933</td>\n",
       "    </tr>\n",
       "    <tr>\n",
       "      <th>5</th>\n",
       "      <td>(15, 6, True)</td>\n",
       "      <td>-187.0</td>\n",
       "      <td>538</td>\n",
       "      <td>-0.347584</td>\n",
       "    </tr>\n",
       "    <tr>\n",
       "      <th>6</th>\n",
       "      <td>(13, 6, False)</td>\n",
       "      <td>-2731.0</td>\n",
       "      <td>4681</td>\n",
       "      <td>-0.583422</td>\n",
       "    </tr>\n",
       "    <tr>\n",
       "      <th>7</th>\n",
       "      <td>(20, 6, False)</td>\n",
       "      <td>5237.0</td>\n",
       "      <td>7477</td>\n",
       "      <td>0.700415</td>\n",
       "    </tr>\n",
       "    <tr>\n",
       "      <th>8</th>\n",
       "      <td>(7, 1, False)</td>\n",
       "      <td>-597.0</td>\n",
       "      <td>990</td>\n",
       "      <td>-0.603030</td>\n",
       "    </tr>\n",
       "    <tr>\n",
       "      <th>9</th>\n",
       "      <td>(11, 1, False)</td>\n",
       "      <td>-498.0</td>\n",
       "      <td>2238</td>\n",
       "      <td>-0.222520</td>\n",
       "    </tr>\n",
       "  </tbody>\n",
       "</table>\n",
       "</div>"
      ],
      "text/plain": [
       "            state  total_return     N     value\n",
       "0  (16, 3, False)       -3346.0  5119 -0.653643\n",
       "1  (21, 3, False)        3434.0  3850  0.891948\n",
       "2   (9, 9, False)        -844.0  1606 -0.525529\n",
       "3  (19, 9, False)       -3905.0  5517 -0.707812\n",
       "4  (21, 9, False)        3632.0  3860  0.940933\n",
       "5   (15, 6, True)        -187.0   538 -0.347584\n",
       "6  (13, 6, False)       -2731.0  4681 -0.583422\n",
       "7  (20, 6, False)        5237.0  7477  0.700415\n",
       "8   (7, 1, False)        -597.0   990 -0.603030\n",
       "9  (11, 1, False)        -498.0  2238 -0.222520"
      ]
     },
     "execution_count": 56,
     "metadata": {},
     "output_type": "execute_result"
    }
   ],
   "source": [
    "df.head(10)"
   ]
  },
  {
   "cell_type": "code",
   "execution_count": 59,
   "id": "6fe755ef",
   "metadata": {},
   "outputs": [
    {
     "data": {
      "text/plain": [
       "array([0.94093264])"
      ]
     },
     "execution_count": 59,
     "metadata": {},
     "output_type": "execute_result"
    }
   ],
   "source": [
    "df[df['state']==(21, 9, False)]['value'].values"
   ]
  },
  {
   "cell_type": "code",
   "execution_count": 60,
   "id": "53564a9a",
   "metadata": {},
   "outputs": [
    {
     "data": {
      "text/plain": [
       "array([-0.6030303])"
      ]
     },
     "execution_count": 60,
     "metadata": {},
     "output_type": "execute_result"
    }
   ],
   "source": [
    "df[df['state'] == (7, 1, False)]['value'].values"
   ]
  },
  {
   "cell_type": "markdown",
   "id": "606ae18e",
   "metadata": {},
   "source": [
    "# First-visit MC Prediction with BlackJack Game"
   ]
  },
  {
   "cell_type": "code",
   "execution_count": 1,
   "id": "1eafcfe7",
   "metadata": {},
   "outputs": [],
   "source": [
    "import gym \n",
    "import pandas as pd\n",
    "from collections import defaultdict"
   ]
  },
  {
   "cell_type": "code",
   "execution_count": 2,
   "id": "55cf27ff",
   "metadata": {},
   "outputs": [],
   "source": [
    "env = gym.make('Blackjack-v0')"
   ]
  },
  {
   "cell_type": "markdown",
   "id": "3d7daa99",
   "metadata": {},
   "source": [
    "### Defining a Policy"
   ]
  },
  {
   "cell_type": "code",
   "execution_count": 3,
   "id": "231dcb5c",
   "metadata": {},
   "outputs": [],
   "source": [
    "def policy(state):\n",
    "    return 0 if state[0] > 19 else 1"
   ]
  },
  {
   "cell_type": "code",
   "execution_count": 4,
   "id": "29737d1e",
   "metadata": {},
   "outputs": [],
   "source": [
    "state = env.reset()"
   ]
  },
  {
   "cell_type": "code",
   "execution_count": 5,
   "id": "ad3b1efe",
   "metadata": {},
   "outputs": [
    {
     "name": "stdout",
     "output_type": "stream",
     "text": [
      "(14, 1, True)\n"
     ]
    }
   ],
   "source": [
    "print(state)"
   ]
  },
  {
   "cell_type": "code",
   "execution_count": 6,
   "id": "54478b99",
   "metadata": {},
   "outputs": [
    {
     "name": "stdout",
     "output_type": "stream",
     "text": [
      "1\n"
     ]
    }
   ],
   "source": [
    "print(policy(state))"
   ]
  },
  {
   "cell_type": "markdown",
   "id": "867cd33e",
   "metadata": {},
   "source": [
    "### Generating an Episode"
   ]
  },
  {
   "cell_type": "code",
   "execution_count": 7,
   "id": "e34bba42",
   "metadata": {},
   "outputs": [],
   "source": [
    "num_timestep = 100"
   ]
  },
  {
   "cell_type": "code",
   "execution_count": 8,
   "id": "7b791193",
   "metadata": {},
   "outputs": [],
   "source": [
    "def generate_episode(policy):\n",
    "    \n",
    "    # Let's define a list called episode for storing the episode\n",
    "    episode = []\n",
    "    \n",
    "    # Initialize the state by resetting the environment\n",
    "    state = env.reset()\n",
    "    \n",
    "    # Then for each time step\n",
    "    for i in range(num_timestep):\n",
    "        \n",
    "        # Select the action according to the given policy\n",
    "        action = policy(state)\n",
    "        \n",
    "        # Perform the action and store the next state information\n",
    "        next_state, reward, done, info = env.step(action)\n",
    "        \n",
    "        # Store the state action reward into our episode list\n",
    "        episode.append((state, action, reward))\n",
    "        \n",
    "        # If the next state is a final state then break the loop else update the next state to the current state\n",
    "        if done:\n",
    "            break\n",
    "            \n",
    "        state = next_state\n",
    "        \n",
    "    return episode"
   ]
  },
  {
   "cell_type": "code",
   "execution_count": 9,
   "id": "3c86d810",
   "metadata": {},
   "outputs": [
    {
     "data": {
      "text/plain": [
       "[((15, 7, False), 1, -1.0)]"
      ]
     },
     "execution_count": 9,
     "metadata": {},
     "output_type": "execute_result"
    }
   ],
   "source": [
    "generate_episode(policy)"
   ]
  },
  {
   "cell_type": "markdown",
   "id": "9d45c313",
   "metadata": {},
   "source": [
    "### Computing the Value Function"
   ]
  },
  {
   "cell_type": "code",
   "execution_count": 10,
   "id": "74fee730",
   "metadata": {},
   "outputs": [],
   "source": [
    "total_return = defaultdict(float)\n",
    "N = defaultdict(int)"
   ]
  },
  {
   "cell_type": "code",
   "execution_count": 11,
   "id": "2c24d454",
   "metadata": {},
   "outputs": [],
   "source": [
    "num_iterations = 10000"
   ]
  },
  {
   "cell_type": "code",
   "execution_count": 12,
   "id": "1a896349",
   "metadata": {},
   "outputs": [],
   "source": [
    "# Then for every iteration\n",
    "for i in range(num_iterations):\n",
    "    \n",
    "    # Generate the episode using the given policy, that is, generate an episode using the policy\n",
    "    # function we defined earlier\n",
    "    episode = generate_episode(policy)\n",
    "    \n",
    "    # Store all the states, actions, rewards obtained from the rewards\n",
    "    states, actions, rewards = zip(*episode)\n",
    "    \n",
    "    # Then, for each step in the episode\n",
    "    for t, state in enumerate(states):\n",
    "        \n",
    "        # if the state is not visited already\n",
    "        if state not in states[0:t]:\n",
    "            \n",
    "            # Compute the return R of the state as the sum of reward\n",
    "            R = (sum(rewards[t:]))\n",
    "            \n",
    "            # Update the total return of the state\n",
    "            total_return[state] = total_return[state] + R\n",
    "            \n",
    "            # Update the number of times the state is visited in the episode\n",
    "            N[state] = N[state] + 1\n",
    "            \n",
    "            "
   ]
  },
  {
   "cell_type": "code",
   "execution_count": 14,
   "id": "2f51553e",
   "metadata": {},
   "outputs": [],
   "source": [
    "total_return = pd.DataFrame(total_return.items(), columns=['state', 'total_return'])"
   ]
  },
  {
   "cell_type": "code",
   "execution_count": 15,
   "id": "1e5e1ac2",
   "metadata": {},
   "outputs": [],
   "source": [
    "N = pd.DataFrame(N.items(), columns=['state', 'N'])"
   ]
  },
  {
   "cell_type": "code",
   "execution_count": 16,
   "id": "72476aaa",
   "metadata": {},
   "outputs": [],
   "source": [
    "df = pd.merge(total_return, N, on='state')"
   ]
  },
  {
   "cell_type": "code",
   "execution_count": 17,
   "id": "b8a21f3c",
   "metadata": {},
   "outputs": [
    {
     "data": {
      "text/html": [
       "<div>\n",
       "<style scoped>\n",
       "    .dataframe tbody tr th:only-of-type {\n",
       "        vertical-align: middle;\n",
       "    }\n",
       "\n",
       "    .dataframe tbody tr th {\n",
       "        vertical-align: top;\n",
       "    }\n",
       "\n",
       "    .dataframe thead th {\n",
       "        text-align: right;\n",
       "    }\n",
       "</style>\n",
       "<table border=\"1\" class=\"dataframe\">\n",
       "  <thead>\n",
       "    <tr style=\"text-align: right;\">\n",
       "      <th></th>\n",
       "      <th>state</th>\n",
       "      <th>total_return</th>\n",
       "      <th>N</th>\n",
       "    </tr>\n",
       "  </thead>\n",
       "  <tbody>\n",
       "    <tr>\n",
       "      <th>0</th>\n",
       "      <td>(18, 1, False)</td>\n",
       "      <td>-80.0</td>\n",
       "      <td>99</td>\n",
       "    </tr>\n",
       "    <tr>\n",
       "      <th>1</th>\n",
       "      <td>(12, 10, False)</td>\n",
       "      <td>-207.0</td>\n",
       "      <td>352</td>\n",
       "    </tr>\n",
       "    <tr>\n",
       "      <th>2</th>\n",
       "      <td>(14, 10, False)</td>\n",
       "      <td>-254.0</td>\n",
       "      <td>407</td>\n",
       "    </tr>\n",
       "    <tr>\n",
       "      <th>3</th>\n",
       "      <td>(20, 10, False)</td>\n",
       "      <td>224.0</td>\n",
       "      <td>564</td>\n",
       "    </tr>\n",
       "    <tr>\n",
       "      <th>4</th>\n",
       "      <td>(19, 4, True)</td>\n",
       "      <td>-9.0</td>\n",
       "      <td>14</td>\n",
       "    </tr>\n",
       "    <tr>\n",
       "      <th>5</th>\n",
       "      <td>(13, 4, False)</td>\n",
       "      <td>-50.0</td>\n",
       "      <td>100</td>\n",
       "    </tr>\n",
       "    <tr>\n",
       "      <th>6</th>\n",
       "      <td>(17, 10, False)</td>\n",
       "      <td>-333.0</td>\n",
       "      <td>458</td>\n",
       "    </tr>\n",
       "    <tr>\n",
       "      <th>7</th>\n",
       "      <td>(11, 2, False)</td>\n",
       "      <td>-12.0</td>\n",
       "      <td>47</td>\n",
       "    </tr>\n",
       "    <tr>\n",
       "      <th>8</th>\n",
       "      <td>(12, 2, False)</td>\n",
       "      <td>-36.0</td>\n",
       "      <td>82</td>\n",
       "    </tr>\n",
       "    <tr>\n",
       "      <th>9</th>\n",
       "      <td>(19, 2, False)</td>\n",
       "      <td>-99.0</td>\n",
       "      <td>117</td>\n",
       "    </tr>\n",
       "  </tbody>\n",
       "</table>\n",
       "</div>"
      ],
      "text/plain": [
       "             state  total_return    N\n",
       "0   (18, 1, False)         -80.0   99\n",
       "1  (12, 10, False)        -207.0  352\n",
       "2  (14, 10, False)        -254.0  407\n",
       "3  (20, 10, False)         224.0  564\n",
       "4    (19, 4, True)          -9.0   14\n",
       "5   (13, 4, False)         -50.0  100\n",
       "6  (17, 10, False)        -333.0  458\n",
       "7   (11, 2, False)         -12.0   47\n",
       "8   (12, 2, False)         -36.0   82\n",
       "9   (19, 2, False)         -99.0  117"
      ]
     },
     "execution_count": 17,
     "metadata": {},
     "output_type": "execute_result"
    }
   ],
   "source": [
    "df.head(10)"
   ]
  },
  {
   "cell_type": "code",
   "execution_count": 18,
   "id": "a76fb320",
   "metadata": {},
   "outputs": [],
   "source": [
    "df['value'] = df['total_return'] / df['N']"
   ]
  },
  {
   "cell_type": "code",
   "execution_count": 19,
   "id": "47b9a958",
   "metadata": {},
   "outputs": [
    {
     "data": {
      "text/html": [
       "<div>\n",
       "<style scoped>\n",
       "    .dataframe tbody tr th:only-of-type {\n",
       "        vertical-align: middle;\n",
       "    }\n",
       "\n",
       "    .dataframe tbody tr th {\n",
       "        vertical-align: top;\n",
       "    }\n",
       "\n",
       "    .dataframe thead th {\n",
       "        text-align: right;\n",
       "    }\n",
       "</style>\n",
       "<table border=\"1\" class=\"dataframe\">\n",
       "  <thead>\n",
       "    <tr style=\"text-align: right;\">\n",
       "      <th></th>\n",
       "      <th>state</th>\n",
       "      <th>total_return</th>\n",
       "      <th>N</th>\n",
       "      <th>value</th>\n",
       "    </tr>\n",
       "  </thead>\n",
       "  <tbody>\n",
       "    <tr>\n",
       "      <th>0</th>\n",
       "      <td>(18, 1, False)</td>\n",
       "      <td>-80.0</td>\n",
       "      <td>99</td>\n",
       "      <td>-0.808081</td>\n",
       "    </tr>\n",
       "    <tr>\n",
       "      <th>1</th>\n",
       "      <td>(12, 10, False)</td>\n",
       "      <td>-207.0</td>\n",
       "      <td>352</td>\n",
       "      <td>-0.588068</td>\n",
       "    </tr>\n",
       "    <tr>\n",
       "      <th>2</th>\n",
       "      <td>(14, 10, False)</td>\n",
       "      <td>-254.0</td>\n",
       "      <td>407</td>\n",
       "      <td>-0.624079</td>\n",
       "    </tr>\n",
       "    <tr>\n",
       "      <th>3</th>\n",
       "      <td>(20, 10, False)</td>\n",
       "      <td>224.0</td>\n",
       "      <td>564</td>\n",
       "      <td>0.397163</td>\n",
       "    </tr>\n",
       "    <tr>\n",
       "      <th>4</th>\n",
       "      <td>(19, 4, True)</td>\n",
       "      <td>-9.0</td>\n",
       "      <td>14</td>\n",
       "      <td>-0.642857</td>\n",
       "    </tr>\n",
       "    <tr>\n",
       "      <th>5</th>\n",
       "      <td>(13, 4, False)</td>\n",
       "      <td>-50.0</td>\n",
       "      <td>100</td>\n",
       "      <td>-0.500000</td>\n",
       "    </tr>\n",
       "    <tr>\n",
       "      <th>6</th>\n",
       "      <td>(17, 10, False)</td>\n",
       "      <td>-333.0</td>\n",
       "      <td>458</td>\n",
       "      <td>-0.727074</td>\n",
       "    </tr>\n",
       "    <tr>\n",
       "      <th>7</th>\n",
       "      <td>(11, 2, False)</td>\n",
       "      <td>-12.0</td>\n",
       "      <td>47</td>\n",
       "      <td>-0.255319</td>\n",
       "    </tr>\n",
       "    <tr>\n",
       "      <th>8</th>\n",
       "      <td>(12, 2, False)</td>\n",
       "      <td>-36.0</td>\n",
       "      <td>82</td>\n",
       "      <td>-0.439024</td>\n",
       "    </tr>\n",
       "    <tr>\n",
       "      <th>9</th>\n",
       "      <td>(19, 2, False)</td>\n",
       "      <td>-99.0</td>\n",
       "      <td>117</td>\n",
       "      <td>-0.846154</td>\n",
       "    </tr>\n",
       "  </tbody>\n",
       "</table>\n",
       "</div>"
      ],
      "text/plain": [
       "             state  total_return    N     value\n",
       "0   (18, 1, False)         -80.0   99 -0.808081\n",
       "1  (12, 10, False)        -207.0  352 -0.588068\n",
       "2  (14, 10, False)        -254.0  407 -0.624079\n",
       "3  (20, 10, False)         224.0  564  0.397163\n",
       "4    (19, 4, True)          -9.0   14 -0.642857\n",
       "5   (13, 4, False)         -50.0  100 -0.500000\n",
       "6  (17, 10, False)        -333.0  458 -0.727074\n",
       "7   (11, 2, False)         -12.0   47 -0.255319\n",
       "8   (12, 2, False)         -36.0   82 -0.439024\n",
       "9   (19, 2, False)         -99.0  117 -0.846154"
      ]
     },
     "execution_count": 19,
     "metadata": {},
     "output_type": "execute_result"
    }
   ],
   "source": [
    "df.head(10)"
   ]
  },
  {
   "cell_type": "code",
   "execution_count": 20,
   "id": "2f73806b",
   "metadata": {},
   "outputs": [
    {
     "data": {
      "text/plain": [
       "array([0.39716312])"
      ]
     },
     "execution_count": 20,
     "metadata": {},
     "output_type": "execute_result"
    }
   ],
   "source": [
    "df[df['state'] == (20, 10, False)]['value'].values"
   ]
  },
  {
   "cell_type": "code",
   "execution_count": 21,
   "id": "46188c15",
   "metadata": {},
   "outputs": [
    {
     "data": {
      "text/html": [
       "<div>\n",
       "<style scoped>\n",
       "    .dataframe tbody tr th:only-of-type {\n",
       "        vertical-align: middle;\n",
       "    }\n",
       "\n",
       "    .dataframe tbody tr th {\n",
       "        vertical-align: top;\n",
       "    }\n",
       "\n",
       "    .dataframe thead th {\n",
       "        text-align: right;\n",
       "    }\n",
       "</style>\n",
       "<table border=\"1\" class=\"dataframe\">\n",
       "  <thead>\n",
       "    <tr style=\"text-align: right;\">\n",
       "      <th></th>\n",
       "      <th>state</th>\n",
       "      <th>total_return</th>\n",
       "      <th>N</th>\n",
       "      <th>value</th>\n",
       "    </tr>\n",
       "  </thead>\n",
       "  <tbody>\n",
       "    <tr>\n",
       "      <th>43</th>\n",
       "      <td>(21, 7, True)</td>\n",
       "      <td>51.0</td>\n",
       "      <td>54</td>\n",
       "      <td>0.944444</td>\n",
       "    </tr>\n",
       "    <tr>\n",
       "      <th>62</th>\n",
       "      <td>(21, 8, False)</td>\n",
       "      <td>78.0</td>\n",
       "      <td>84</td>\n",
       "      <td>0.928571</td>\n",
       "    </tr>\n",
       "    <tr>\n",
       "      <th>76</th>\n",
       "      <td>(21, 6, True)</td>\n",
       "      <td>41.0</td>\n",
       "      <td>45</td>\n",
       "      <td>0.911111</td>\n",
       "    </tr>\n",
       "    <tr>\n",
       "      <th>92</th>\n",
       "      <td>(21, 4, False)</td>\n",
       "      <td>69.0</td>\n",
       "      <td>73</td>\n",
       "      <td>0.945205</td>\n",
       "    </tr>\n",
       "    <tr>\n",
       "      <th>121</th>\n",
       "      <td>(21, 5, False)</td>\n",
       "      <td>64.0</td>\n",
       "      <td>70</td>\n",
       "      <td>0.914286</td>\n",
       "    </tr>\n",
       "    <tr>\n",
       "      <th>143</th>\n",
       "      <td>(21, 3, False)</td>\n",
       "      <td>67.0</td>\n",
       "      <td>73</td>\n",
       "      <td>0.917808</td>\n",
       "    </tr>\n",
       "    <tr>\n",
       "      <th>150</th>\n",
       "      <td>(21, 7, False)</td>\n",
       "      <td>58.0</td>\n",
       "      <td>62</td>\n",
       "      <td>0.935484</td>\n",
       "    </tr>\n",
       "    <tr>\n",
       "      <th>160</th>\n",
       "      <td>(21, 8, True)</td>\n",
       "      <td>55.0</td>\n",
       "      <td>58</td>\n",
       "      <td>0.948276</td>\n",
       "    </tr>\n",
       "    <tr>\n",
       "      <th>178</th>\n",
       "      <td>(20, 9, True)</td>\n",
       "      <td>11.0</td>\n",
       "      <td>11</td>\n",
       "      <td>1.000000</td>\n",
       "    </tr>\n",
       "    <tr>\n",
       "      <th>182</th>\n",
       "      <td>(21, 9, True)</td>\n",
       "      <td>45.0</td>\n",
       "      <td>49</td>\n",
       "      <td>0.918367</td>\n",
       "    </tr>\n",
       "    <tr>\n",
       "      <th>191</th>\n",
       "      <td>(21, 4, True)</td>\n",
       "      <td>40.0</td>\n",
       "      <td>44</td>\n",
       "      <td>0.909091</td>\n",
       "    </tr>\n",
       "  </tbody>\n",
       "</table>\n",
       "</div>"
      ],
      "text/plain": [
       "              state  total_return   N     value\n",
       "43    (21, 7, True)          51.0  54  0.944444\n",
       "62   (21, 8, False)          78.0  84  0.928571\n",
       "76    (21, 6, True)          41.0  45  0.911111\n",
       "92   (21, 4, False)          69.0  73  0.945205\n",
       "121  (21, 5, False)          64.0  70  0.914286\n",
       "143  (21, 3, False)          67.0  73  0.917808\n",
       "150  (21, 7, False)          58.0  62  0.935484\n",
       "160   (21, 8, True)          55.0  58  0.948276\n",
       "178   (20, 9, True)          11.0  11  1.000000\n",
       "182   (21, 9, True)          45.0  49  0.918367\n",
       "191   (21, 4, True)          40.0  44  0.909091"
      ]
     },
     "execution_count": 21,
     "metadata": {},
     "output_type": "execute_result"
    }
   ],
   "source": [
    "df[df['value'] > .90]"
   ]
  },
  {
   "cell_type": "code",
   "execution_count": 22,
   "id": "001cd938",
   "metadata": {},
   "outputs": [
    {
     "data": {
      "text/html": [
       "<div>\n",
       "<style scoped>\n",
       "    .dataframe tbody tr th:only-of-type {\n",
       "        vertical-align: middle;\n",
       "    }\n",
       "\n",
       "    .dataframe tbody tr th {\n",
       "        vertical-align: top;\n",
       "    }\n",
       "\n",
       "    .dataframe thead th {\n",
       "        text-align: right;\n",
       "    }\n",
       "</style>\n",
       "<table border=\"1\" class=\"dataframe\">\n",
       "  <thead>\n",
       "    <tr style=\"text-align: right;\">\n",
       "      <th></th>\n",
       "      <th>state</th>\n",
       "      <th>total_return</th>\n",
       "      <th>N</th>\n",
       "      <th>value</th>\n",
       "    </tr>\n",
       "  </thead>\n",
       "  <tbody>\n",
       "    <tr>\n",
       "      <th>0</th>\n",
       "      <td>(18, 1, False)</td>\n",
       "      <td>-80.0</td>\n",
       "      <td>99</td>\n",
       "      <td>-0.808081</td>\n",
       "    </tr>\n",
       "    <tr>\n",
       "      <th>1</th>\n",
       "      <td>(12, 10, False)</td>\n",
       "      <td>-207.0</td>\n",
       "      <td>352</td>\n",
       "      <td>-0.588068</td>\n",
       "    </tr>\n",
       "    <tr>\n",
       "      <th>2</th>\n",
       "      <td>(14, 10, False)</td>\n",
       "      <td>-254.0</td>\n",
       "      <td>407</td>\n",
       "      <td>-0.624079</td>\n",
       "    </tr>\n",
       "    <tr>\n",
       "      <th>4</th>\n",
       "      <td>(19, 4, True)</td>\n",
       "      <td>-9.0</td>\n",
       "      <td>14</td>\n",
       "      <td>-0.642857</td>\n",
       "    </tr>\n",
       "    <tr>\n",
       "      <th>6</th>\n",
       "      <td>(17, 10, False)</td>\n",
       "      <td>-333.0</td>\n",
       "      <td>458</td>\n",
       "      <td>-0.727074</td>\n",
       "    </tr>\n",
       "    <tr>\n",
       "      <th>...</th>\n",
       "      <td>...</td>\n",
       "      <td>...</td>\n",
       "      <td>...</td>\n",
       "      <td>...</td>\n",
       "    </tr>\n",
       "    <tr>\n",
       "      <th>261</th>\n",
       "      <td>(7, 7, False)</td>\n",
       "      <td>-13.0</td>\n",
       "      <td>15</td>\n",
       "      <td>-0.866667</td>\n",
       "    </tr>\n",
       "    <tr>\n",
       "      <th>262</th>\n",
       "      <td>(17, 7, True)</td>\n",
       "      <td>-10.0</td>\n",
       "      <td>14</td>\n",
       "      <td>-0.714286</td>\n",
       "    </tr>\n",
       "    <tr>\n",
       "      <th>268</th>\n",
       "      <td>(5, 2, False)</td>\n",
       "      <td>-4.0</td>\n",
       "      <td>5</td>\n",
       "      <td>-0.800000</td>\n",
       "    </tr>\n",
       "    <tr>\n",
       "      <th>272</th>\n",
       "      <td>(4, 10, False)</td>\n",
       "      <td>-7.0</td>\n",
       "      <td>13</td>\n",
       "      <td>-0.538462</td>\n",
       "    </tr>\n",
       "    <tr>\n",
       "      <th>278</th>\n",
       "      <td>(12, 2, True)</td>\n",
       "      <td>-3.0</td>\n",
       "      <td>3</td>\n",
       "      <td>-1.000000</td>\n",
       "    </tr>\n",
       "  </tbody>\n",
       "</table>\n",
       "<p>126 rows × 4 columns</p>\n",
       "</div>"
      ],
      "text/plain": [
       "               state  total_return    N     value\n",
       "0     (18, 1, False)         -80.0   99 -0.808081\n",
       "1    (12, 10, False)        -207.0  352 -0.588068\n",
       "2    (14, 10, False)        -254.0  407 -0.624079\n",
       "4      (19, 4, True)          -9.0   14 -0.642857\n",
       "6    (17, 10, False)        -333.0  458 -0.727074\n",
       "..               ...           ...  ...       ...\n",
       "261    (7, 7, False)         -13.0   15 -0.866667\n",
       "262    (17, 7, True)         -10.0   14 -0.714286\n",
       "268    (5, 2, False)          -4.0    5 -0.800000\n",
       "272   (4, 10, False)          -7.0   13 -0.538462\n",
       "278    (12, 2, True)          -3.0    3 -1.000000\n",
       "\n",
       "[126 rows x 4 columns]"
      ]
     },
     "execution_count": 22,
     "metadata": {},
     "output_type": "execute_result"
    }
   ],
   "source": [
    "df[df['value'] < -0.5]"
   ]
  },
  {
   "cell_type": "code",
   "execution_count": 23,
   "id": "7f3a43fb",
   "metadata": {},
   "outputs": [
    {
     "data": {
      "text/plain": [
       "array([-1.])"
      ]
     },
     "execution_count": 23,
     "metadata": {},
     "output_type": "execute_result"
    }
   ],
   "source": [
    "df[df['state'] == (12, 2, True)]['value'].values"
   ]
  },
  {
   "cell_type": "markdown",
   "id": "874b532b",
   "metadata": {},
   "source": [
    "# Implementing on-Policy Monte Carlo Control"
   ]
  },
  {
   "cell_type": "code",
   "execution_count": 1,
   "id": "051ca9aa",
   "metadata": {},
   "outputs": [],
   "source": [
    "import gym\n",
    "import pandas as pd\n",
    "from collections import defaultdict\n",
    "import random"
   ]
  },
  {
   "cell_type": "code",
   "execution_count": 18,
   "id": "ec24723a",
   "metadata": {},
   "outputs": [],
   "source": [
    "env = gym.make('Blackjack-v0')"
   ]
  },
  {
   "cell_type": "code",
   "execution_count": 19,
   "id": "be41d6bb",
   "metadata": {},
   "outputs": [],
   "source": [
    "Q = defaultdict(float)"
   ]
  },
  {
   "cell_type": "code",
   "execution_count": 20,
   "id": "6336fab4",
   "metadata": {},
   "outputs": [],
   "source": [
    "total_return = defaultdict(float)"
   ]
  },
  {
   "cell_type": "code",
   "execution_count": 21,
   "id": "b2a64403",
   "metadata": {},
   "outputs": [],
   "source": [
    "N = defaultdict(int)"
   ]
  },
  {
   "cell_type": "markdown",
   "id": "d6e594c7",
   "metadata": {},
   "source": [
    "### Define the Epsilon Greedy Policy"
   ]
  },
  {
   "cell_type": "code",
   "execution_count": 22,
   "id": "35e54131",
   "metadata": {},
   "outputs": [],
   "source": [
    "def epsilon_greedy_policy(state, Q):\n",
    "    \n",
    "    # Set the epsilon value to 0.5\n",
    "    epsilon = 0.5\n",
    "    \n",
    "    # Sample a random value from the uniform distribution. If sample value is less than \n",
    "    # epsilon then we select a random action else we select the best action which has maximum Q\n",
    "    # value as shown below\n",
    "    \n",
    "    if random.uniform(0, 1) < epsilon:\n",
    "        return env.action_space.sample()\n",
    "    else:\n",
    "        return max(list(range(env.action_space.n)), key = lambda x: Q[(state, x)])"
   ]
  },
  {
   "cell_type": "markdown",
   "id": "acd6adff",
   "metadata": {},
   "source": [
    "### Generating an Episode"
   ]
  },
  {
   "cell_type": "code",
   "execution_count": 23,
   "id": "346c7f66",
   "metadata": {},
   "outputs": [],
   "source": [
    "num_timesteps = 100"
   ]
  },
  {
   "cell_type": "code",
   "execution_count": 24,
   "id": "e8ddcc9d",
   "metadata": {},
   "outputs": [],
   "source": [
    "def generate_episode(Q):\n",
    "    \n",
    "    # initialize a list for storing the episode\n",
    "    episode = []\n",
    "    \n",
    "    # initialize the state using the reset function\n",
    "    state = env.reset()\n",
    "    \n",
    "    # then for each time step\n",
    "    for t in range(num_timesteps):\n",
    "        \n",
    "        # select the action according to the epsilon-greedy policy\n",
    "        action = epsilon_greedy_policy(state, Q)\n",
    "        \n",
    "        # perform the selected action and store the next state information\n",
    "        next_state, reward, done, info = env.step(action)\n",
    "        \n",
    "        # store the state, action, reward in the episode list\n",
    "        episode.append((state, action, reward))\n",
    "        \n",
    "        # If the next state is a final state then break the loop else update the next state to the current\n",
    "        # state \n",
    "        if done:\n",
    "            break\n",
    "            \n",
    "        state = next_state\n",
    "        \n",
    "    return episode"
   ]
  },
  {
   "cell_type": "markdown",
   "id": "82524170",
   "metadata": {},
   "source": [
    "### Computing Optimal Policy"
   ]
  },
  {
   "cell_type": "code",
   "execution_count": 25,
   "id": "fbbb7b66",
   "metadata": {},
   "outputs": [],
   "source": [
    "num_iterations = 50000"
   ]
  },
  {
   "cell_type": "code",
   "execution_count": 26,
   "id": "74676af3",
   "metadata": {},
   "outputs": [],
   "source": [
    "# for each iteration\n",
    "for i in range(num_iterations):\n",
    "    \n",
    "    # so, here we passed our initialized Q function to generate an episode\n",
    "    episode = generate_episode(Q)\n",
    "    \n",
    "    # get all the state-pair actions in episode \n",
    "    all_state_action_pairs = [(s, a) for (s, a, r) in episode]\n",
    "    \n",
    "    # store all the rewards obtained in the episode in the rewards list\n",
    "    rewards = [r for (s, a, r) in episode]\n",
    "    \n",
    "    # for each step in the episode\n",
    "    for t, (state, action, reward) in enumerate(episode):\n",
    "        \n",
    "        # if the state-action pair is occuring for the first time in the episode\n",
    "        if not (state, action) in all_state_action_pairs[0:t]:\n",
    "            \n",
    "            # compute the return R of the state-action pair as the sum of rewards\n",
    "            R = sum(rewards[t:])\n",
    "            \n",
    "            # update total return of the state-action pair\n",
    "            total_return[(state, action)] = total_return[(state, action)] + R\n",
    "            \n",
    "            # update the number of times the state-action pair is visited\n",
    "            N[(state, action)] = N[(state, action)] + 1\n",
    "            \n",
    "            # compute the Q value by just taking the average\n",
    "            Q[(state, action)] = total_return[(state, action)] / N[(state, action)]\n",
    "            \n",
    "            \n",
    "    \n",
    "    "
   ]
  },
  {
   "cell_type": "code",
   "execution_count": 27,
   "id": "d4aa4bd0",
   "metadata": {},
   "outputs": [],
   "source": [
    "df = pd.DataFrame(Q.items(), columns=['state_action_pair', 'value'])"
   ]
  },
  {
   "cell_type": "code",
   "execution_count": 28,
   "id": "ee2efa11",
   "metadata": {},
   "outputs": [
    {
     "data": {
      "text/html": [
       "<div>\n",
       "<style scoped>\n",
       "    .dataframe tbody tr th:only-of-type {\n",
       "        vertical-align: middle;\n",
       "    }\n",
       "\n",
       "    .dataframe tbody tr th {\n",
       "        vertical-align: top;\n",
       "    }\n",
       "\n",
       "    .dataframe thead th {\n",
       "        text-align: right;\n",
       "    }\n",
       "</style>\n",
       "<table border=\"1\" class=\"dataframe\">\n",
       "  <thead>\n",
       "    <tr style=\"text-align: right;\">\n",
       "      <th></th>\n",
       "      <th>state_action_pair</th>\n",
       "      <th>value</th>\n",
       "    </tr>\n",
       "  </thead>\n",
       "  <tbody>\n",
       "    <tr>\n",
       "      <th>0</th>\n",
       "      <td>((20, 10, False), 1)</td>\n",
       "      <td>-0.863366</td>\n",
       "    </tr>\n",
       "    <tr>\n",
       "      <th>1</th>\n",
       "      <td>((11, 10, False), 0)</td>\n",
       "      <td>-0.655172</td>\n",
       "    </tr>\n",
       "    <tr>\n",
       "      <th>2</th>\n",
       "      <td>((11, 10, False), 1)</td>\n",
       "      <td>-0.173077</td>\n",
       "    </tr>\n",
       "    <tr>\n",
       "      <th>3</th>\n",
       "      <td>((13, 6, False), 0)</td>\n",
       "      <td>-0.126667</td>\n",
       "    </tr>\n",
       "    <tr>\n",
       "      <th>4</th>\n",
       "      <td>((13, 6, False), 1)</td>\n",
       "      <td>-0.478261</td>\n",
       "    </tr>\n",
       "    <tr>\n",
       "      <th>5</th>\n",
       "      <td>((16, 5, False), 0)</td>\n",
       "      <td>-0.106796</td>\n",
       "    </tr>\n",
       "    <tr>\n",
       "      <th>6</th>\n",
       "      <td>((16, 5, False), 1)</td>\n",
       "      <td>-0.516484</td>\n",
       "    </tr>\n",
       "    <tr>\n",
       "      <th>7</th>\n",
       "      <td>((19, 9, False), 0)</td>\n",
       "      <td>0.325581</td>\n",
       "    </tr>\n",
       "    <tr>\n",
       "      <th>8</th>\n",
       "      <td>((19, 9, False), 1)</td>\n",
       "      <td>-0.766667</td>\n",
       "    </tr>\n",
       "    <tr>\n",
       "      <th>9</th>\n",
       "      <td>((17, 10, False), 1)</td>\n",
       "      <td>-0.679487</td>\n",
       "    </tr>\n",
       "    <tr>\n",
       "      <th>10</th>\n",
       "      <td>((13, 7, False), 0)</td>\n",
       "      <td>-0.437500</td>\n",
       "    </tr>\n",
       "  </tbody>\n",
       "</table>\n",
       "</div>"
      ],
      "text/plain": [
       "       state_action_pair     value\n",
       "0   ((20, 10, False), 1) -0.863366\n",
       "1   ((11, 10, False), 0) -0.655172\n",
       "2   ((11, 10, False), 1) -0.173077\n",
       "3    ((13, 6, False), 0) -0.126667\n",
       "4    ((13, 6, False), 1) -0.478261\n",
       "5    ((16, 5, False), 0) -0.106796\n",
       "6    ((16, 5, False), 1) -0.516484\n",
       "7    ((19, 9, False), 0)  0.325581\n",
       "8    ((19, 9, False), 1) -0.766667\n",
       "9   ((17, 10, False), 1) -0.679487\n",
       "10   ((13, 7, False), 0) -0.437500"
      ]
     },
     "execution_count": 28,
     "metadata": {},
     "output_type": "execute_result"
    }
   ],
   "source": [
    "df.head(11)"
   ]
  },
  {
   "cell_type": "code",
   "execution_count": 29,
   "id": "937b5204",
   "metadata": {},
   "outputs": [
    {
     "data": {
      "text/html": [
       "<div>\n",
       "<style scoped>\n",
       "    .dataframe tbody tr th:only-of-type {\n",
       "        vertical-align: middle;\n",
       "    }\n",
       "\n",
       "    .dataframe tbody tr th {\n",
       "        vertical-align: top;\n",
       "    }\n",
       "\n",
       "    .dataframe thead th {\n",
       "        text-align: right;\n",
       "    }\n",
       "</style>\n",
       "<table border=\"1\" class=\"dataframe\">\n",
       "  <thead>\n",
       "    <tr style=\"text-align: right;\">\n",
       "      <th></th>\n",
       "      <th>state_action_pair</th>\n",
       "      <th>value</th>\n",
       "    </tr>\n",
       "  </thead>\n",
       "  <tbody>\n",
       "    <tr>\n",
       "      <th>291</th>\n",
       "      <td>((21, 8, True), 0)</td>\n",
       "      <td>0.891304</td>\n",
       "    </tr>\n",
       "  </tbody>\n",
       "</table>\n",
       "</div>"
      ],
      "text/plain": [
       "      state_action_pair     value\n",
       "291  ((21, 8, True), 0)  0.891304"
      ]
     },
     "execution_count": 29,
     "metadata": {},
     "output_type": "execute_result"
    }
   ],
   "source": [
    "df[df['state_action_pair'] == ((21, 8, True), 0)]"
   ]
  },
  {
   "cell_type": "code",
   "execution_count": 30,
   "id": "dd41ee24",
   "metadata": {},
   "outputs": [
    {
     "data": {
      "text/html": [
       "<div>\n",
       "<style scoped>\n",
       "    .dataframe tbody tr th:only-of-type {\n",
       "        vertical-align: middle;\n",
       "    }\n",
       "\n",
       "    .dataframe tbody tr th {\n",
       "        vertical-align: top;\n",
       "    }\n",
       "\n",
       "    .dataframe thead th {\n",
       "        text-align: right;\n",
       "    }\n",
       "</style>\n",
       "<table border=\"1\" class=\"dataframe\">\n",
       "  <thead>\n",
       "    <tr style=\"text-align: right;\">\n",
       "      <th></th>\n",
       "      <th>state_action_pair</th>\n",
       "      <th>value</th>\n",
       "    </tr>\n",
       "  </thead>\n",
       "  <tbody>\n",
       "    <tr>\n",
       "      <th>292</th>\n",
       "      <td>((21, 8, True), 1)</td>\n",
       "      <td>-0.148936</td>\n",
       "    </tr>\n",
       "  </tbody>\n",
       "</table>\n",
       "</div>"
      ],
      "text/plain": [
       "      state_action_pair     value\n",
       "292  ((21, 8, True), 1) -0.148936"
      ]
     },
     "execution_count": 30,
     "metadata": {},
     "output_type": "execute_result"
    }
   ],
   "source": [
    "df[df['state_action_pair'] == ((21, 8, True), 1)]"
   ]
  },
  {
   "cell_type": "code",
   "execution_count": null,
   "id": "a5ee6b7a",
   "metadata": {},
   "outputs": [],
   "source": []
  }
 ],
 "metadata": {
  "kernelspec": {
   "display_name": "Python 3 (ipykernel)",
   "language": "python",
   "name": "python3"
  },
  "language_info": {
   "codemirror_mode": {
    "name": "ipython",
    "version": 3
   },
   "file_extension": ".py",
   "mimetype": "text/x-python",
   "name": "python",
   "nbconvert_exporter": "python",
   "pygments_lexer": "ipython3",
   "version": "3.9.7"
  }
 },
 "nbformat": 4,
 "nbformat_minor": 5
}
