{
 "cells": [
  {
   "cell_type": "markdown",
   "id": "6cd404d3",
   "metadata": {},
   "source": [
    "# Predicting the value of states in the Frozen Lake Environment"
   ]
  },
  {
   "cell_type": "code",
   "execution_count": 1,
   "id": "a93581de",
   "metadata": {},
   "outputs": [],
   "source": [
    "import gym\n",
    "import pandas as pd "
   ]
  },
  {
   "cell_type": "code",
   "execution_count": 2,
   "id": "8724f3b9",
   "metadata": {},
   "outputs": [],
   "source": [
    "env = gym.make('FrozenLake-v1')"
   ]
  },
  {
   "cell_type": "code",
   "execution_count": 3,
   "id": "1dcda915",
   "metadata": {},
   "outputs": [],
   "source": [
    "def random_policy():\n",
    "    return env.action_space.sample()"
   ]
  },
  {
   "cell_type": "code",
   "execution_count": 8,
   "id": "1ffa5fb9",
   "metadata": {},
   "outputs": [],
   "source": [
    "V = {}\n",
    "for s in range(env.observation_space.n):\n",
    "    V[s] = 0.0\n",
    "    alpha = 0.85\n",
    "    gamma = 0.90\n",
    "    num_episodes = 50000\n",
    "    num_timesteps = 1000\n",
    "    for i in range(num_episodes):\n",
    "        s = env.reset()\n",
    "        for t in range(num_timesteps):\n",
    "            a = random_policy()\n",
    "            s_, r, done, _ = env.step(a)\n",
    "            V[s_] = s_\n",
    "            V[s] += alpha * (r + gamma * V[s_] -V[s])\n",
    "            s = s_\n",
    "            if done:\n",
    "                break"
   ]
  },
  {
   "cell_type": "code",
   "execution_count": 5,
   "id": "db8a935a",
   "metadata": {},
   "outputs": [],
   "source": []
  },
  {
   "cell_type": "code",
   "execution_count": 6,
   "id": "3601746d",
   "metadata": {},
   "outputs": [],
   "source": []
  },
  {
   "cell_type": "code",
   "execution_count": 23,
   "id": "875b472c",
   "metadata": {},
   "outputs": [],
   "source": []
  },
  {
   "cell_type": "code",
   "execution_count": 13,
   "id": "3416b530",
   "metadata": {},
   "outputs": [],
   "source": [
    "env.reset()\n",
    "x = env.step(1)"
   ]
  },
  {
   "cell_type": "code",
   "execution_count": 21,
   "id": "31488411",
   "metadata": {},
   "outputs": [],
   "source": [
    "s_, r, done, _, t = x"
   ]
  },
  {
   "cell_type": "code",
   "execution_count": 22,
   "id": "ee957cb3",
   "metadata": {},
   "outputs": [
    {
     "data": {
      "text/plain": [
       "{'prob': 0.3333333333333333}"
      ]
     },
     "execution_count": 22,
     "metadata": {},
     "output_type": "execute_result"
    }
   ],
   "source": [
    "t"
   ]
  },
  {
   "cell_type": "code",
   "execution_count": 9,
   "id": "1284c9a0",
   "metadata": {},
   "outputs": [],
   "source": [
    "df = pd.DataFrame(list(V.items()), columns=['state', 'value'])"
   ]
  },
  {
   "cell_type": "code",
   "execution_count": 10,
   "id": "1d44fdba",
   "metadata": {},
   "outputs": [
    {
     "data": {
      "text/html": [
       "<div>\n",
       "<style scoped>\n",
       "    .dataframe tbody tr th:only-of-type {\n",
       "        vertical-align: middle;\n",
       "    }\n",
       "\n",
       "    .dataframe tbody tr th {\n",
       "        vertical-align: top;\n",
       "    }\n",
       "\n",
       "    .dataframe thead th {\n",
       "        text-align: right;\n",
       "    }\n",
       "</style>\n",
       "<table border=\"1\" class=\"dataframe\">\n",
       "  <thead>\n",
       "    <tr style=\"text-align: right;\">\n",
       "      <th></th>\n",
       "      <th>state</th>\n",
       "      <th>value</th>\n",
       "    </tr>\n",
       "  </thead>\n",
       "  <tbody>\n",
       "    <tr>\n",
       "      <th>0</th>\n",
       "      <td>0</td>\n",
       "      <td>0.76500</td>\n",
       "    </tr>\n",
       "    <tr>\n",
       "      <th>1</th>\n",
       "      <td>4</td>\n",
       "      <td>0.60000</td>\n",
       "    </tr>\n",
       "    <tr>\n",
       "      <th>2</th>\n",
       "      <td>5</td>\n",
       "      <td>5.00000</td>\n",
       "    </tr>\n",
       "    <tr>\n",
       "      <th>3</th>\n",
       "      <td>8</td>\n",
       "      <td>4.26000</td>\n",
       "    </tr>\n",
       "    <tr>\n",
       "      <th>4</th>\n",
       "      <td>12</td>\n",
       "      <td>12.00000</td>\n",
       "    </tr>\n",
       "    <tr>\n",
       "      <th>5</th>\n",
       "      <td>9</td>\n",
       "      <td>9.00000</td>\n",
       "    </tr>\n",
       "    <tr>\n",
       "      <th>6</th>\n",
       "      <td>1</td>\n",
       "      <td>1.68000</td>\n",
       "    </tr>\n",
       "    <tr>\n",
       "      <th>7</th>\n",
       "      <td>2</td>\n",
       "      <td>2.59500</td>\n",
       "    </tr>\n",
       "    <tr>\n",
       "      <th>8</th>\n",
       "      <td>6</td>\n",
       "      <td>4.72500</td>\n",
       "    </tr>\n",
       "    <tr>\n",
       "      <th>9</th>\n",
       "      <td>3</td>\n",
       "      <td>5.80500</td>\n",
       "    </tr>\n",
       "    <tr>\n",
       "      <th>10</th>\n",
       "      <td>7</td>\n",
       "      <td>7.00000</td>\n",
       "    </tr>\n",
       "    <tr>\n",
       "      <th>11</th>\n",
       "      <td>10</td>\n",
       "      <td>9.91500</td>\n",
       "    </tr>\n",
       "    <tr>\n",
       "      <th>12</th>\n",
       "      <td>13</td>\n",
       "      <td>10.96425</td>\n",
       "    </tr>\n",
       "    <tr>\n",
       "      <th>13</th>\n",
       "      <td>14</td>\n",
       "      <td>12.04500</td>\n",
       "    </tr>\n",
       "    <tr>\n",
       "      <th>14</th>\n",
       "      <td>11</td>\n",
       "      <td>11.00000</td>\n",
       "    </tr>\n",
       "    <tr>\n",
       "      <th>15</th>\n",
       "      <td>15</td>\n",
       "      <td>15.00000</td>\n",
       "    </tr>\n",
       "  </tbody>\n",
       "</table>\n",
       "</div>"
      ],
      "text/plain": [
       "    state     value\n",
       "0       0   0.76500\n",
       "1       4   0.60000\n",
       "2       5   5.00000\n",
       "3       8   4.26000\n",
       "4      12  12.00000\n",
       "5       9   9.00000\n",
       "6       1   1.68000\n",
       "7       2   2.59500\n",
       "8       6   4.72500\n",
       "9       3   5.80500\n",
       "10      7   7.00000\n",
       "11     10   9.91500\n",
       "12     13  10.96425\n",
       "13     14  12.04500\n",
       "14     11  11.00000\n",
       "15     15  15.00000"
      ]
     },
     "execution_count": 10,
     "metadata": {},
     "output_type": "execute_result"
    }
   ],
   "source": [
    "df"
   ]
  },
  {
   "cell_type": "markdown",
   "id": "970fea47",
   "metadata": {},
   "source": [
    "# Computing Optimal Policy using SARSA"
   ]
  },
  {
   "cell_type": "code",
   "execution_count": 1,
   "id": "64431552",
   "metadata": {},
   "outputs": [],
   "source": [
    "import gym \n",
    "import pandas as pd\n",
    "import random"
   ]
  },
  {
   "cell_type": "code",
   "execution_count": 2,
   "id": "cfe8d80a",
   "metadata": {},
   "outputs": [],
   "source": [
    "env = gym.make('FrozenLake-v1')"
   ]
  },
  {
   "cell_type": "code",
   "execution_count": 3,
   "id": "742ec5f4",
   "metadata": {},
   "outputs": [],
   "source": [
    "Q = {}\n",
    "for s in range(env.observation_space.n):\n",
    "    for a in range(env.action_space.n):\n",
    "        Q[(s, a)] = 0.0"
   ]
  },
  {
   "cell_type": "code",
   "execution_count": 4,
   "id": "0a4596c7",
   "metadata": {},
   "outputs": [],
   "source": [
    "def epsilon_greedy(state, epsilon):\n",
    "    if random.uniform(0, 1) < epsilon:\n",
    "        return env.action_space.sample()\n",
    "    else:\n",
    "        return max(list(range(env.action_space.n)), key = lambda x: Q[(state, x)])"
   ]
  },
  {
   "cell_type": "code",
   "execution_count": 5,
   "id": "7306bd49",
   "metadata": {},
   "outputs": [],
   "source": [
    "alpha = 0.85\n",
    "gamma = 0.90\n",
    "epsilon = 0.8"
   ]
  },
  {
   "cell_type": "code",
   "execution_count": 6,
   "id": "1149b403",
   "metadata": {},
   "outputs": [],
   "source": [
    "num_episodes = 5000\n",
    "num_timesteps = 1000"
   ]
  },
  {
   "cell_type": "code",
   "execution_count": 7,
   "id": "9d83bb6f",
   "metadata": {},
   "outputs": [],
   "source": [
    "# for each episode \n",
    "for i in range(20000):\n",
    "    \n",
    "    # initialize the state by reseting the environment\n",
    "    s = env.reset()\n",
    "    \n",
    "    # select the action using the epsilon-greedy policy\n",
    "    a = epsilon_greedy(s, epsilon)\n",
    "    \n",
    "    # for each step in the episode\n",
    "    for t in range(num_timesteps):\n",
    "        \n",
    "        # perform the selected action and store the next state information\n",
    "        s_, r, done, _ = env.step(a)\n",
    "        \n",
    "        # select the action a dash in the next state using the epsilon greedy policy\n",
    "        a_ = epsilon_greedy(s_, epsilon)\n",
    "        \n",
    "        # compute the Q value of the state-action pair\n",
    "        Q[(s, a)] = Q[(s, a)] + alpha * (r + gamma * Q[(s_, a_)] - Q[(s, a)])\n",
    "        \n",
    "        # update next state to current state\n",
    "        s_ = s\n",
    "        \n",
    "        # update next action to current action\n",
    "        a_ = a\n",
    "        \n",
    "        # if the current state is the terminal state then break\n",
    "        if done:\n",
    "            break"
   ]
  },
  {
   "cell_type": "markdown",
   "id": "c88cd144",
   "metadata": {},
   "source": [
    "# Computing the Optimal Policy using Q Learning"
   ]
  },
  {
   "cell_type": "code",
   "execution_count": 8,
   "id": "07129d19",
   "metadata": {},
   "outputs": [],
   "source": [
    "import gym\n",
    "import pandas as pd\n",
    "import random\n",
    "import numpy as np"
   ]
  },
  {
   "cell_type": "code",
   "execution_count": 9,
   "id": "8a5c0808",
   "metadata": {},
   "outputs": [],
   "source": [
    "env = gym.make('FrozenLake-v1')"
   ]
  },
  {
   "cell_type": "code",
   "execution_count": 10,
   "id": "a383f83a",
   "metadata": {},
   "outputs": [],
   "source": [
    "Q = {}\n",
    "for s in range(env.observation_space.n):\n",
    "    for a in range(env.action_space.n):\n",
    "        Q[(s, a)] = 0.0"
   ]
  },
  {
   "cell_type": "code",
   "execution_count": 11,
   "id": "5e0b9eb3",
   "metadata": {},
   "outputs": [],
   "source": [
    "def epsilon_greedy(state, epsilon):\n",
    "    if random.uniform(0, 1) < epsilon:\n",
    "        return env.action_space.sample()\n",
    "    else:\n",
    "        return max(list(range(env.action_space.n)), key = lambda x: Q[(state, x)])"
   ]
  },
  {
   "cell_type": "code",
   "execution_count": 12,
   "id": "d8aef5cd",
   "metadata": {},
   "outputs": [],
   "source": [
    "alpha = 0.85\n",
    "gamma = 0.90\n",
    "epsilon = 0.80"
   ]
  },
  {
   "cell_type": "code",
   "execution_count": 13,
   "id": "f53086d9",
   "metadata": {},
   "outputs": [],
   "source": [
    "num_episodes = 5000\n",
    "num_steps = 1000"
   ]
  },
  {
   "cell_type": "code",
   "execution_count": 17,
   "id": "ddd06739",
   "metadata": {},
   "outputs": [],
   "source": [
    "# for each episode:\n",
    "for i in range(num_episodes):\n",
    "    \n",
    "    # initialize the state by resetting the environment\n",
    "    s = env.reset()\n",
    "    \n",
    "    # for each step in the episode\n",
    "    for t in range(num_steps):\n",
    "        \n",
    "        # select the action using the epsilon-greedy policy\n",
    "        a = epsilon_greedy(s, epsilon)\n",
    "        \n",
    "        # perform the selected action and store the next state information\n",
    "        s_, r, done, _ = env.step(a)\n",
    "        \n",
    "        # first, select the action a dash which has a maximum Q value in the next state\n",
    "        a_ = np.argmax([Q[s, a] for a in range(env.action_space.n)])\n",
    "        \n",
    "        # we calculate the value of previous state using our update rule \n",
    "        Q[(s, a)] = Q[(s, a)] + alpha * (r + gamma * Q[(s_, a_)] - Q[(s, a)])\n",
    "        \n",
    "        # update current state to next state\n",
    "        s = s_\n",
    "        \n",
    "        # if current state is the terminal state then break\n",
    "        if done:\n",
    "            break\n",
    "        \n",
    "        "
   ]
  },
  {
   "cell_type": "code",
   "execution_count": null,
   "id": "6f6b9542",
   "metadata": {},
   "outputs": [],
   "source": []
  }
 ],
 "metadata": {
  "kernelspec": {
   "display_name": "Python 3 (ipykernel)",
   "language": "python",
   "name": "python3"
  },
  "language_info": {
   "codemirror_mode": {
    "name": "ipython",
    "version": 3
   },
   "file_extension": ".py",
   "mimetype": "text/x-python",
   "name": "python",
   "nbconvert_exporter": "python",
   "pygments_lexer": "ipython3",
   "version": "3.9.7"
  }
 },
 "nbformat": 4,
 "nbformat_minor": 5
}
