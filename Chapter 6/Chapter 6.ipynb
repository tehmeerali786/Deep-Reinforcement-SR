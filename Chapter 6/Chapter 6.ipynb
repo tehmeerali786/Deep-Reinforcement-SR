{
 "cells": [
  {
   "cell_type": "markdown",
   "id": "7f57cf79",
   "metadata": {},
   "source": [
    "# Epsilon-Greedy Policy"
   ]
  },
  {
   "cell_type": "code",
   "execution_count": 1,
   "id": "da49e9a8",
   "metadata": {},
   "outputs": [],
   "source": [
    "import gym\n",
    "import gym_bandits\n",
    "import numpy as np"
   ]
  },
  {
   "cell_type": "code",
   "execution_count": 2,
   "id": "da7caf87",
   "metadata": {},
   "outputs": [],
   "source": [
    "env = gym.make('BanditTwoArmedHighLowFixed-v0')"
   ]
  },
  {
   "cell_type": "code",
   "execution_count": 3,
   "id": "83b7e2e2",
   "metadata": {},
   "outputs": [
    {
     "name": "stdout",
     "output_type": "stream",
     "text": [
      "[0.8, 0.2]\n"
     ]
    }
   ],
   "source": [
    "print(env.p_dist)"
   ]
  },
  {
   "cell_type": "code",
   "execution_count": 25,
   "id": "52f58bf9",
   "metadata": {},
   "outputs": [],
   "source": [
    "count = np.zeros(2)"
   ]
  },
  {
   "cell_type": "code",
   "execution_count": 26,
   "id": "46afb5a6",
   "metadata": {},
   "outputs": [],
   "source": [
    "sum_rewards = np.zeros(2)"
   ]
  },
  {
   "cell_type": "code",
   "execution_count": 27,
   "id": "d3708645",
   "metadata": {},
   "outputs": [],
   "source": [
    "Q = np.zeros(2)"
   ]
  },
  {
   "cell_type": "code",
   "execution_count": 28,
   "id": "8944a9b0",
   "metadata": {},
   "outputs": [
    {
     "data": {
      "text/plain": [
       "array([0., 0.])"
      ]
     },
     "execution_count": 28,
     "metadata": {},
     "output_type": "execute_result"
    }
   ],
   "source": [
    "Q"
   ]
  },
  {
   "cell_type": "code",
   "execution_count": 29,
   "id": "80abd56f",
   "metadata": {},
   "outputs": [],
   "source": [
    "num_rounds = 100"
   ]
  },
  {
   "cell_type": "markdown",
   "id": "f16fc089",
   "metadata": {},
   "source": [
    "### Defining the Epsilon-Greedy Method"
   ]
  },
  {
   "cell_type": "code",
   "execution_count": 30,
   "id": "7d4f6569",
   "metadata": {},
   "outputs": [],
   "source": [
    "def epsilon_greedy(epsilon):\n",
    "    \n",
    "    if np.random.uniform(0, 1) < epsilon:\n",
    "        return env.action_space.sample()\n",
    "    else:\n",
    "        return np.argmax(Q)"
   ]
  },
  {
   "cell_type": "markdown",
   "id": "4eb9190c",
   "metadata": {},
   "source": [
    "### Start Pulling the Arm"
   ]
  },
  {
   "cell_type": "code",
   "execution_count": 31,
   "id": "3041d1a9",
   "metadata": {},
   "outputs": [],
   "source": [
    "for i in range(num_rounds):\n",
    "    \n",
    "    # select the arm based on the epsilon-greedy method\n",
    "    arm = epsilon_greedy(0.5)\n",
    "    \n",
    "    # pull the arm and store the reward and next state information\n",
    "    next_state, reward, done, info = env.step(arm)\n",
    "    \n",
    "    # increment the count of the arm by 1\n",
    "    count[arm] = count[arm] + 1\n",
    "    \n",
    "    # update the sum of rewards\n",
    "    sum_rewards[arm] = sum_rewards[arm] + reward\n",
    "    \n",
    "    # update the average reward of the arm\n",
    "    Q[arm] = sum_rewards[arm] / count[arm]\n",
    "    \n",
    "    "
   ]
  },
  {
   "cell_type": "code",
   "execution_count": 32,
   "id": "ef6cf781",
   "metadata": {},
   "outputs": [
    {
     "name": "stdout",
     "output_type": "stream",
     "text": [
      "[0.83561644 0.22222222]\n"
     ]
    }
   ],
   "source": [
    "print(Q)"
   ]
  },
  {
   "cell_type": "code",
   "execution_count": 33,
   "id": "720d3a5a",
   "metadata": {},
   "outputs": [
    {
     "name": "stdout",
     "output_type": "stream",
     "text": [
      "The optimal arm is arm 1\n"
     ]
    }
   ],
   "source": [
    "print(f'The optimal arm is arm {np.argmax(Q) + 1}')"
   ]
  },
  {
   "cell_type": "markdown",
   "id": "c05d206b",
   "metadata": {},
   "source": [
    "# Softmax Eploration"
   ]
  },
  {
   "cell_type": "code",
   "execution_count": 34,
   "id": "d74fb444",
   "metadata": {},
   "outputs": [],
   "source": [
    "import gym\n",
    "import gym_bandits\n",
    "import numpy as np"
   ]
  },
  {
   "cell_type": "code",
   "execution_count": 35,
   "id": "46e7aebb",
   "metadata": {},
   "outputs": [],
   "source": [
    "env = gym.make(\"BanditTwoArmedHighLowFixed-v0\")"
   ]
  },
  {
   "cell_type": "code",
   "execution_count": 36,
   "id": "f7efb086",
   "metadata": {},
   "outputs": [
    {
     "name": "stdout",
     "output_type": "stream",
     "text": [
      "[0.8, 0.2]\n"
     ]
    }
   ],
   "source": [
    "print(env.p_dist)"
   ]
  },
  {
   "cell_type": "code",
   "execution_count": 37,
   "id": "a2b1db64",
   "metadata": {},
   "outputs": [],
   "source": [
    "count = np.zeros(2)"
   ]
  },
  {
   "cell_type": "code",
   "execution_count": 38,
   "id": "e4f0ad8c",
   "metadata": {},
   "outputs": [],
   "source": [
    "sum_rewards = np.zeros(2)"
   ]
  },
  {
   "cell_type": "code",
   "execution_count": 39,
   "id": "7e30b3f4",
   "metadata": {},
   "outputs": [],
   "source": [
    "Q = np.zeros(2)"
   ]
  },
  {
   "cell_type": "code",
   "execution_count": 40,
   "id": "3e89c45e",
   "metadata": {},
   "outputs": [],
   "source": [
    "num_rounds = 100"
   ]
  },
  {
   "cell_type": "markdown",
   "id": "d4cdf1a3",
   "metadata": {},
   "source": [
    "### Defining the Softmax Exploration Function"
   ]
  },
  {
   "cell_type": "markdown",
   "id": "c41a839d",
   "metadata": {},
   "source": [
    "Now, let's define the softmax function with temperature `T` as:\n",
    "\n",
    "$$P_t(a) = \\frac{\\text{exp}(Q_t(a)/T)} {\\sum_{i=1}^n \\text{exp}(Q_t(i)/T)} $$"
   ]
  },
  {
   "cell_type": "code",
   "execution_count": 41,
   "id": "224c1599",
   "metadata": {},
   "outputs": [],
   "source": [
    "def softmax(T):\n",
    "    \n",
    "    # compute the probability of each arm based on the above equation\n",
    "    denom = sum([np.exp(i/T) for i in Q])\n",
    "    probs = [np.exp(i/T)/denom for i in Q]\n",
    "    \n",
    "    # select the arm based on the computed probability distribution of arms\n",
    "    arm = np.random.choice(env.action_space.n, p=probs)\n",
    "    \n",
    "    return arm"
   ]
  },
  {
   "cell_type": "markdown",
   "id": "c0686121",
   "metadata": {},
   "source": [
    "### Start Pulling the Arm"
   ]
  },
  {
   "cell_type": "code",
   "execution_count": 42,
   "id": "b381e1fe",
   "metadata": {},
   "outputs": [],
   "source": [
    "T = 50"
   ]
  },
  {
   "cell_type": "code",
   "execution_count": 43,
   "id": "59f4b4e4",
   "metadata": {},
   "outputs": [],
   "source": [
    "for i in range(num_rounds):\n",
    "    \n",
    "    # select the arm based on the softmax eploration method\n",
    "    arm = softmax(T)\n",
    "    \n",
    "    # pull the arm and store the reward and next state information\n",
    "    next_state, reward, done, info = env.step(arm)\n",
    "    \n",
    "    # increment the count of the arm by 1\n",
    "    count[arm] = count[arm] + 1\n",
    "    \n",
    "    # update the sum of rewards of the arm\n",
    "    sum_rewards[arm] = sum_rewards[arm] + reward\n",
    "    \n",
    "    # update the average reward of the arm\n",
    "    Q[arm] = sum_rewards[arm]/count[arm]\n",
    "    \n",
    "    # reduce the temprature \n",
    "    T = T * 0.99\n",
    "    "
   ]
  },
  {
   "cell_type": "code",
   "execution_count": 44,
   "id": "a92e16d2",
   "metadata": {},
   "outputs": [
    {
     "name": "stdout",
     "output_type": "stream",
     "text": [
      "[0.87755102 0.17647059]\n"
     ]
    }
   ],
   "source": [
    "print(Q)"
   ]
  },
  {
   "cell_type": "code",
   "execution_count": 45,
   "id": "db6845bf",
   "metadata": {},
   "outputs": [
    {
     "name": "stdout",
     "output_type": "stream",
     "text": [
      "The optimal arm is arm 1\n"
     ]
    }
   ],
   "source": [
    "print(f'The optimal arm is arm {np.argmax(Q)+1}')"
   ]
  },
  {
   "cell_type": "markdown",
   "id": "ac06501e",
   "metadata": {},
   "source": [
    "# Upper Confidence Bound"
   ]
  },
  {
   "cell_type": "code",
   "execution_count": 46,
   "id": "d85ee208",
   "metadata": {},
   "outputs": [],
   "source": [
    "import gym\n",
    "import gym_bandits\n",
    "import numpy as np"
   ]
  },
  {
   "cell_type": "code",
   "execution_count": 47,
   "id": "ecb17113",
   "metadata": {},
   "outputs": [],
   "source": [
    "env = gym.make(\"BanditTwoArmedHighLowFixed-v0\")"
   ]
  },
  {
   "cell_type": "code",
   "execution_count": 48,
   "id": "ce3e5c17",
   "metadata": {},
   "outputs": [
    {
     "name": "stdout",
     "output_type": "stream",
     "text": [
      "[0.8, 0.2]\n"
     ]
    }
   ],
   "source": [
    "print(env.p_dist)"
   ]
  },
  {
   "cell_type": "code",
   "execution_count": 49,
   "id": "c4b21580",
   "metadata": {},
   "outputs": [],
   "source": [
    "count = np.zeros(2)"
   ]
  },
  {
   "cell_type": "code",
   "execution_count": 50,
   "id": "ee289587",
   "metadata": {},
   "outputs": [],
   "source": [
    "sum_rewards = np.zeros(2)"
   ]
  },
  {
   "cell_type": "code",
   "execution_count": 51,
   "id": "bdf6898e",
   "metadata": {},
   "outputs": [],
   "source": [
    "Q = np.zeros(2)"
   ]
  },
  {
   "cell_type": "code",
   "execution_count": 52,
   "id": "0cd1d428",
   "metadata": {},
   "outputs": [],
   "source": [
    "num_rounds = 100"
   ]
  },
  {
   "cell_type": "markdown",
   "id": "a6a1dc4f",
   "metadata": {},
   "source": [
    "### Defining the Upper Confidence Bound\n",
    "\n",
    "$$ \\text{UCB(a)} =Q(a) +\\sqrt{\\frac{2 \\log(t)}{N(a)}}  --- (1) $$"
   ]
  },
  {
   "cell_type": "code",
   "execution_count": 53,
   "id": "6512e384",
   "metadata": {},
   "outputs": [],
   "source": [
    "def UCB(i):\n",
    "    \n",
    "    # initialize the numpy array for storing the UCB of all the arms\n",
    "    ucb = np.zeros(2)\n",
    "    \n",
    "    # before computing the UCB, we explore all the arms at least once, so for the first 2 rounds,\n",
    "    # we directly select the arm corresponding to the round number\n",
    "    \n",
    "    if i < 2:\n",
    "        return i\n",
    "    \n",
    "    # if the round is greater than 1 then, we compute the UCB of all the arms as specified in the\n",
    "    # equation(1) and return the arm which has the highest the UCB\n",
    "    \n",
    "    else:\n",
    "        for arm in range(2):\n",
    "            ucb[arm] = Q[arm] + np.sqrt((2*np.log(sum(count))) / count[arm])\n",
    "        return (np.argmax(ucb))"
   ]
  },
  {
   "cell_type": "markdown",
   "id": "e014f281",
   "metadata": {},
   "source": [
    "### Start Playing"
   ]
  },
  {
   "cell_type": "code",
   "execution_count": 54,
   "id": "bc397e76",
   "metadata": {},
   "outputs": [],
   "source": [
    "for i in range(num_rounds):\n",
    "    \n",
    "    # select the arm based on the UCB method\n",
    "    arm = UCB(i)\n",
    "    \n",
    "    # pull the arm and store the reward and next state information\n",
    "    next_state, reward, done, info = env.step(arm)\n",
    "    \n",
    "    # increment the count of the arm by 1\n",
    "    count[arm] = count[arm] + 1\n",
    "    \n",
    "    # update the sum of rewards of the arm\n",
    "    sum_rewards[arm] = sum_rewards[arm] + reward\n",
    "    \n",
    "    # update the average reward of the arm\n",
    "    Q[arm] = sum_rewards[arm] / count[arm]"
   ]
  },
  {
   "cell_type": "code",
   "execution_count": 55,
   "id": "efd122c6",
   "metadata": {},
   "outputs": [
    {
     "name": "stdout",
     "output_type": "stream",
     "text": [
      "[0.8 0.1]\n"
     ]
    }
   ],
   "source": [
    "print(Q)"
   ]
  },
  {
   "cell_type": "code",
   "execution_count": 56,
   "id": "a7971a95",
   "metadata": {},
   "outputs": [
    {
     "name": "stdout",
     "output_type": "stream",
     "text": [
      "The optimal arm is arm 1\n"
     ]
    }
   ],
   "source": [
    "print(f'The optimal arm is arm {np.argmax(Q)+1}')"
   ]
  },
  {
   "cell_type": "markdown",
   "id": "153d0631",
   "metadata": {},
   "source": [
    "# Thompson Sampling"
   ]
  },
  {
   "cell_type": "code",
   "execution_count": 1,
   "id": "4a32a028",
   "metadata": {},
   "outputs": [],
   "source": [
    "import gym\n",
    "import gym_bandits\n",
    "import numpy as np"
   ]
  },
  {
   "cell_type": "code",
   "execution_count": 24,
   "id": "a8d9b24a",
   "metadata": {},
   "outputs": [],
   "source": [
    "env = gym.make(\"BanditTwoArmedHighLowFixed-v0\")"
   ]
  },
  {
   "cell_type": "code",
   "execution_count": 25,
   "id": "2dbf3dfa",
   "metadata": {},
   "outputs": [
    {
     "name": "stdout",
     "output_type": "stream",
     "text": [
      "[0.8, 0.2]\n"
     ]
    }
   ],
   "source": [
    "print(env.p_dist)"
   ]
  },
  {
   "cell_type": "code",
   "execution_count": 26,
   "id": "14d9ae9b",
   "metadata": {},
   "outputs": [],
   "source": [
    "count = np.zeros(2)"
   ]
  },
  {
   "cell_type": "code",
   "execution_count": 27,
   "id": "a16d5b5d",
   "metadata": {},
   "outputs": [],
   "source": [
    "sum_rewards = np.zeros(2)"
   ]
  },
  {
   "cell_type": "code",
   "execution_count": 28,
   "id": "87d0bbee",
   "metadata": {},
   "outputs": [],
   "source": [
    "Q = np.zeros(2)"
   ]
  },
  {
   "cell_type": "code",
   "execution_count": 29,
   "id": "a1413fcc",
   "metadata": {},
   "outputs": [],
   "source": [
    "num_rounds = 100"
   ]
  },
  {
   "cell_type": "code",
   "execution_count": 30,
   "id": "1da22cfd",
   "metadata": {},
   "outputs": [],
   "source": [
    "alpha = np.ones(2)"
   ]
  },
  {
   "cell_type": "code",
   "execution_count": 31,
   "id": "73231644",
   "metadata": {},
   "outputs": [],
   "source": [
    "beta = np.ones(2)"
   ]
  },
  {
   "cell_type": "markdown",
   "id": "2f0e3ac1",
   "metadata": {},
   "source": [
    "### Defining the Thompson Sampling Function"
   ]
  },
  {
   "cell_type": "code",
   "execution_count": 32,
   "id": "11147585",
   "metadata": {},
   "outputs": [],
   "source": [
    "def thompson_sampling(alpha, beta):\n",
    "    \n",
    "    samples = [np.random.beta(alpha[i]+1, beta[i]+1) for i in range(2)]\n",
    "    \n",
    "    return np.argmax(samples)"
   ]
  },
  {
   "cell_type": "markdown",
   "id": "fc570a09",
   "metadata": {},
   "source": [
    "### Start Playing"
   ]
  },
  {
   "cell_type": "code",
   "execution_count": 11,
   "id": "00a499da",
   "metadata": {},
   "outputs": [
    {
     "data": {
      "text/plain": [
       "array([1., 1.])"
      ]
     },
     "execution_count": 11,
     "metadata": {},
     "output_type": "execute_result"
    }
   ],
   "source": [
    "alpha"
   ]
  },
  {
   "cell_type": "code",
   "execution_count": 12,
   "id": "97ba0857",
   "metadata": {},
   "outputs": [
    {
     "data": {
      "text/plain": [
       "array([2., 2.])"
      ]
     },
     "execution_count": 12,
     "metadata": {},
     "output_type": "execute_result"
    }
   ],
   "source": [
    "alpha+1"
   ]
  },
  {
   "cell_type": "code",
   "execution_count": 14,
   "id": "8832a3a8",
   "metadata": {},
   "outputs": [
    {
     "data": {
      "text/plain": [
       "array([0.48188678, 0.75461019])"
      ]
     },
     "execution_count": 14,
     "metadata": {},
     "output_type": "execute_result"
    }
   ],
   "source": [
    "np.random.beta(alpha+1, beta+1)"
   ]
  },
  {
   "cell_type": "code",
   "execution_count": 15,
   "id": "f7fd6339",
   "metadata": {},
   "outputs": [],
   "source": [
    "samples = [np.random.beta(alpha[i]+1, beta[i]+1) for i in range(2)]"
   ]
  },
  {
   "cell_type": "code",
   "execution_count": 16,
   "id": "ca18732c",
   "metadata": {},
   "outputs": [
    {
     "data": {
      "text/plain": [
       "[0.3869349537385338, 0.6276719211890108]"
      ]
     },
     "execution_count": 16,
     "metadata": {},
     "output_type": "execute_result"
    }
   ],
   "source": [
    "samples"
   ]
  },
  {
   "cell_type": "code",
   "execution_count": 17,
   "id": "aac8a0b9",
   "metadata": {},
   "outputs": [
    {
     "data": {
      "text/plain": [
       "1"
      ]
     },
     "execution_count": 17,
     "metadata": {},
     "output_type": "execute_result"
    }
   ],
   "source": [
    "np.argmax(samples)"
   ]
  },
  {
   "cell_type": "code",
   "execution_count": 35,
   "id": "1d4d2a15",
   "metadata": {},
   "outputs": [],
   "source": [
    "for i in range(num_rounds):\n",
    "    \n",
    "    # select the arm based on the thompson sampling method\n",
    "    arm = thompson_sampling(alpha, beta)\n",
    "    \n",
    "    # pull the arm and store the reward and next state information\n",
    "    next_state, reward, done, info = env.step(arm)\n",
    "    \n",
    "    # increment the count of the arm by 1\n",
    "    count[arm] = count[arm] + 1\n",
    "    \n",
    "    # update the sum of rewards of the arm\n",
    "    sum_rewards[arm] = sum_rewards[arm] + reward\n",
    "    \n",
    "    # update the average reward of the arm\n",
    "    Q[arm] = sum_rewards[arm]/count[arm]\n",
    "    \n",
    "    # if we win the game, i.e., if the reward is equal to 1, then we update the value of alpha as \n",
    "    # alpha = alpha + 1 else we update the value of beta as beta = beta + 1\n",
    "    if reward==1:\n",
    "        alpha[arm] = alpha[arm] + 1\n",
    "    else:\n",
    "        beta[arm] = beta[arm] + 1\n",
    "        \n",
    "    "
   ]
  },
  {
   "cell_type": "code",
   "execution_count": 36,
   "id": "280bd68b",
   "metadata": {},
   "outputs": [
    {
     "name": "stdout",
     "output_type": "stream",
     "text": [
      "[0.7755102 0.       ]\n"
     ]
    }
   ],
   "source": [
    "print(Q)"
   ]
  },
  {
   "cell_type": "code",
   "execution_count": 37,
   "id": "b9cd2faf",
   "metadata": {},
   "outputs": [
    {
     "name": "stdout",
     "output_type": "stream",
     "text": [
      "the optimal arm is 1\n"
     ]
    }
   ],
   "source": [
    "print(f'the optimal arm is {np.argmax(Q)+1}')"
   ]
  },
  {
   "cell_type": "code",
   "execution_count": 38,
   "id": "917074cf",
   "metadata": {},
   "outputs": [
    {
     "data": {
      "text/plain": [
       "array([196.,   4.])"
      ]
     },
     "execution_count": 38,
     "metadata": {},
     "output_type": "execute_result"
    }
   ],
   "source": [
    "count"
   ]
  },
  {
   "cell_type": "markdown",
   "id": "ef9152c0",
   "metadata": {},
   "source": [
    "# Finding the Best Advertisement Banner using Bandits"
   ]
  },
  {
   "cell_type": "code",
   "execution_count": 39,
   "id": "55c561e7",
   "metadata": {},
   "outputs": [],
   "source": [
    "import pandas as pd\n",
    "import numpy as np\n",
    "import matplotlib.pyplot as plt\n",
    "import seaborn as sns\n",
    "\n",
    "%matplotlib inline\n",
    "plt.style.use('ggplot')"
   ]
  },
  {
   "cell_type": "markdown",
   "id": "fb753716",
   "metadata": {},
   "source": [
    "### Creating a Dataset"
   ]
  },
  {
   "cell_type": "code",
   "execution_count": 40,
   "id": "4183bed2",
   "metadata": {},
   "outputs": [],
   "source": [
    "df = pd.DataFrame()\n",
    "for i in range(5):\n",
    "    df['Banner_type_'+str(i)] = np.random.randint(0, 2, 100000)"
   ]
  },
  {
   "cell_type": "code",
   "execution_count": 41,
   "id": "1a99561c",
   "metadata": {},
   "outputs": [
    {
     "data": {
      "text/html": [
       "<div>\n",
       "<style scoped>\n",
       "    .dataframe tbody tr th:only-of-type {\n",
       "        vertical-align: middle;\n",
       "    }\n",
       "\n",
       "    .dataframe tbody tr th {\n",
       "        vertical-align: top;\n",
       "    }\n",
       "\n",
       "    .dataframe thead th {\n",
       "        text-align: right;\n",
       "    }\n",
       "</style>\n",
       "<table border=\"1\" class=\"dataframe\">\n",
       "  <thead>\n",
       "    <tr style=\"text-align: right;\">\n",
       "      <th></th>\n",
       "      <th>Banner_type_0</th>\n",
       "      <th>Banner_type_1</th>\n",
       "      <th>Banner_type_2</th>\n",
       "      <th>Banner_type_3</th>\n",
       "      <th>Banner_type_4</th>\n",
       "    </tr>\n",
       "  </thead>\n",
       "  <tbody>\n",
       "    <tr>\n",
       "      <th>0</th>\n",
       "      <td>1</td>\n",
       "      <td>0</td>\n",
       "      <td>0</td>\n",
       "      <td>0</td>\n",
       "      <td>0</td>\n",
       "    </tr>\n",
       "    <tr>\n",
       "      <th>1</th>\n",
       "      <td>1</td>\n",
       "      <td>1</td>\n",
       "      <td>1</td>\n",
       "      <td>0</td>\n",
       "      <td>1</td>\n",
       "    </tr>\n",
       "    <tr>\n",
       "      <th>2</th>\n",
       "      <td>1</td>\n",
       "      <td>1</td>\n",
       "      <td>0</td>\n",
       "      <td>0</td>\n",
       "      <td>0</td>\n",
       "    </tr>\n",
       "    <tr>\n",
       "      <th>3</th>\n",
       "      <td>1</td>\n",
       "      <td>1</td>\n",
       "      <td>1</td>\n",
       "      <td>1</td>\n",
       "      <td>0</td>\n",
       "    </tr>\n",
       "    <tr>\n",
       "      <th>4</th>\n",
       "      <td>1</td>\n",
       "      <td>1</td>\n",
       "      <td>0</td>\n",
       "      <td>1</td>\n",
       "      <td>0</td>\n",
       "    </tr>\n",
       "  </tbody>\n",
       "</table>\n",
       "</div>"
      ],
      "text/plain": [
       "   Banner_type_0  Banner_type_1  Banner_type_2  Banner_type_3  Banner_type_4\n",
       "0              1              0              0              0              0\n",
       "1              1              1              1              0              1\n",
       "2              1              1              0              0              0\n",
       "3              1              1              1              1              0\n",
       "4              1              1              0              1              0"
      ]
     },
     "execution_count": 41,
     "metadata": {},
     "output_type": "execute_result"
    }
   ],
   "source": [
    "df.head()"
   ]
  },
  {
   "cell_type": "markdown",
   "id": "6daddf7f",
   "metadata": {},
   "source": [
    "# Initialize the Variables"
   ]
  },
  {
   "cell_type": "code",
   "execution_count": 42,
   "id": "dd0f37b1",
   "metadata": {},
   "outputs": [],
   "source": [
    "num_iterations = 100000"
   ]
  },
  {
   "cell_type": "code",
   "execution_count": 44,
   "id": "e4683bfd",
   "metadata": {},
   "outputs": [],
   "source": [
    "num_banner = 5"
   ]
  },
  {
   "cell_type": "code",
   "execution_count": 45,
   "id": "3ea0f046",
   "metadata": {},
   "outputs": [],
   "source": [
    "count = np.zeros(num_banner)"
   ]
  },
  {
   "cell_type": "code",
   "execution_count": 46,
   "id": "7513a748",
   "metadata": {},
   "outputs": [],
   "source": [
    "sum_rewards = np.zeros(num_banner)"
   ]
  },
  {
   "cell_type": "code",
   "execution_count": 47,
   "id": "b219345a",
   "metadata": {},
   "outputs": [],
   "source": [
    "Q = np.zeros(num_banner)"
   ]
  },
  {
   "cell_type": "code",
   "execution_count": 48,
   "id": "3edf30b3",
   "metadata": {},
   "outputs": [],
   "source": [
    "banner_selected = []"
   ]
  },
  {
   "cell_type": "markdown",
   "id": "e8f1948f",
   "metadata": {},
   "source": [
    "### Define Epislon Greedy Policy"
   ]
  },
  {
   "cell_type": "code",
   "execution_count": 49,
   "id": "89817bed",
   "metadata": {},
   "outputs": [],
   "source": [
    "def epsilon_greedy_policy(epsilon):\n",
    "    \n",
    "    if np.random.uniform(0, 1) < epsilon:\n",
    "        return np.random.choice(num_banner)\n",
    "    else:\n",
    "        return np.argmax(Q)"
   ]
  },
  {
   "cell_type": "code",
   "execution_count": 50,
   "id": "4a1dacf7",
   "metadata": {},
   "outputs": [],
   "source": [
    "# for each iteration\n",
    "for i in range(num_iterations):\n",
    "    \n",
    "    # select the banner using the epsilon greedy policy\n",
    "    banner = epsilon_greedy_policy(0.5)\n",
    "    \n",
    "    # get the reward of the banner\n",
    "    reward = df.values[i, banner]\n",
    "    \n",
    "    # increment the counter\n",
    "    count[banner] = count[banner] + 1\n",
    "    \n",
    "    # store the sum of rewards\n",
    "    sum_rewards[banner] = sum_rewards[banner] + reward\n",
    "    \n",
    "    # compute the average reward\n",
    "    Q[banner] = sum_rewards[banner]/count[banner]\n",
    "    \n",
    "    # store the banner to the banner selected list\n",
    "    banner_selected.append(banner)"
   ]
  },
  {
   "cell_type": "code",
   "execution_count": 51,
   "id": "c7268e5a",
   "metadata": {},
   "outputs": [
    {
     "name": "stdout",
     "output_type": "stream",
     "text": [
      "The optimal banner is banner 1\n"
     ]
    }
   ],
   "source": [
    "print(f'The optimal banner is banner {np.argmax(Q)}')"
   ]
  },
  {
   "cell_type": "code",
   "execution_count": 57,
   "id": "0102dfd6",
   "metadata": {},
   "outputs": [
    {
     "name": "stderr",
     "output_type": "stream",
     "text": [
      "C:\\ProgramData\\Anaconda3\\lib\\site-packages\\seaborn\\_decorators.py:36: FutureWarning: Pass the following variable as a keyword arg: x. From version 0.12, the only valid positional argument will be `data`, and passing other arguments without an explicit keyword will result in an error or misinterpretation.\n",
      "  warnings.warn(\n"
     ]
    },
    {
     "data": {
      "image/png": "[encoded data removed]",
      "text/plain": [
       "<Figure size 432x288 with 1 Axes>"
      ]
     },
     "metadata": {},
     "output_type": "display_data"
    }
   ],
   "source": [
    "ax = sns.countplot(banner_selected)\n",
    "ax.set(xlabel='Banner', ylabel='Count')\n",
    "plt.show()"
   ]
  },
  {
   "cell_type": "code",
   "execution_count": null,
   "id": "84e7bf14",
   "metadata": {},
   "outputs": [],
   "source": []
  }
 ],
 "metadata": {
  "kernelspec": {
   "display_name": "Python 3 (ipykernel)",
   "language": "python",
   "name": "python3"
  },
  "language_info": {
   "codemirror_mode": {
    "name": "ipython",
    "version": 3
   },
   "file_extension": ".py",
   "mimetype": "text/x-python",
   "name": "python",
   "nbconvert_exporter": "python",
   "pygments_lexer": "ipython3",
   "version": "3.9.7"
  }
 },
 "nbformat": 4,
 "nbformat_minor": 5
}
